{
 "cells": [
  {
   "cell_type": "code",
   "execution_count": 1,
   "id": "902ac4f5",
   "metadata": {},
   "outputs": [],
   "source": [
    "from textwrap import dedent\n",
    "\n",
    "from agno.agent import Agent\n",
    "from agno.media import Image\n",
    "from agno.models.openai import OpenAIChat\n",
    "from agno.tools.duckduckgo import DuckDuckGoTools"
   ]
  },
  {
   "cell_type": "code",
   "execution_count": 2,
   "id": "2181e642",
   "metadata": {},
   "outputs": [],
   "source": [
    "agent = Agent(\n",
    "    model=OpenAIChat(id=\"gpt-4o-mini\"),\n",
    "    description=dedent(\"\"\"\\\n",
    "        You are a world-class visual journalist and cultural correspondent with a gift\n",
    "        for bringing images to life through storytelling! 📸✨ With the observational skills\n",
    "        of a detective and the narrative flair of a bestselling author, you transform visual\n",
    "        analysis into compelling stories that inform and captivate.\\\n",
    "    \"\"\"),\n",
    "    instructions=dedent(\"\"\"\\\n",
    "        When analyzing images and reporting news, follow these principles:\n",
    "\n",
    "        1. Visual Analysis:\n",
    "           - Start with an attention-grabbing headline using relevant emoji\n",
    "           - Break down key visual elements with expert precision\n",
    "           - Notice subtle details others might miss\n",
    "           - Connect visual elements to broader contexts\n",
    "\n",
    "        2. News Integration:\n",
    "           - Research and verify current events related to the image\n",
    "           - Connect historical context with present-day significance\n",
    "           - Prioritize accuracy while maintaining engagement\n",
    "           - Include relevant statistics or data when available\n",
    "\n",
    "        3. Storytelling Style:\n",
    "           - Maintain a professional yet engaging tone\n",
    "           - Use vivid, descriptive language\n",
    "           - Include cultural and historical references when relevant\n",
    "           - End with a memorable sign-off that fits the story\n",
    "\n",
    "        4. Reporting Guidelines:\n",
    "           - Keep responses concise but informative (2-3 paragraphs)\n",
    "           - Balance facts with human interest\n",
    "           - Maintain journalistic integrity\n",
    "           - Credit sources when citing specific information\n",
    "\n",
    "        Transform every image into a compelling news story that informs and inspires!\\\n",
    "    \"\"\"),\n",
    "    tools=[DuckDuckGoTools()],\n",
    "    show_tool_calls=True,\n",
    "    markdown=True,\n",
    ")"
   ]
  },
  {
   "cell_type": "code",
   "execution_count": 3,
   "id": "fb9afd44",
   "metadata": {},
   "outputs": [
    {
     "data": {
      "application/vnd.jupyter.widget-view+json": {
       "model_id": "335245d943da4d6ea1bf9bfcb822c145",
       "version_major": 2,
       "version_minor": 0
      },
      "text/plain": [
       "Output()"
      ]
     },
     "metadata": {},
     "output_type": "display_data"
    },
    {
     "data": {
      "text/html": [
       "<pre style=\"white-space:pre;overflow-x:auto;line-height:normal;font-family:Menlo,'DejaVu Sans Mono',consolas,'Courier New',monospace\">/Users/matheus/Developer/agno/venv/lib/python3.12/site-packages/agno/tools/duckduckgo.py:90: RuntimeWarning: This \n",
       "package (`duckduckgo_search`) has been renamed to `ddgs`! Use `pip install ddgs` instead.\n",
       "  ddgs = DDGS(\n",
       "</pre>\n"
      ],
      "text/plain": [
       "/Users/matheus/Developer/agno/venv/lib/python3.12/site-packages/agno/tools/duckduckgo.py:90: RuntimeWarning: This \n",
       "package (`duckduckgo_search`) has been renamed to `ddgs`! Use `pip install ddgs` instead.\n",
       "  ddgs = DDGS(\n"
      ]
     },
     "metadata": {},
     "output_type": "display_data"
    },
    {
     "data": {
      "text/html": [
       "<pre style=\"white-space:pre;overflow-x:auto;line-height:normal;font-family:Menlo,'DejaVu Sans Mono',consolas,'Courier New',monospace\">/Users/matheus/Developer/agno/venv/lib/python3.12/site-packages/agno/tools/duckduckgo.py:71: RuntimeWarning: This \n",
       "package (`duckduckgo_search`) has been renamed to `ddgs`! Use `pip install ddgs` instead.\n",
       "  ddgs = DDGS(\n",
       "</pre>\n"
      ],
      "text/plain": [
       "/Users/matheus/Developer/agno/venv/lib/python3.12/site-packages/agno/tools/duckduckgo.py:71: RuntimeWarning: This \n",
       "package (`duckduckgo_search`) has been renamed to `ddgs`! Use `pip install ddgs` instead.\n",
       "  ddgs = DDGS(\n"
      ]
     },
     "metadata": {},
     "output_type": "display_data"
    },
    {
     "data": {
      "text/html": [
       "<pre style=\"white-space:pre;overflow-x:auto;line-height:normal;font-family:Menlo,'DejaVu Sans Mono',consolas,'Courier New',monospace\"></pre>\n"
      ],
      "text/plain": []
     },
     "metadata": {},
     "output_type": "display_data"
    }
   ],
   "source": [
    "# Example usage with a famous landmark\n",
    "agent.print_response(\n",
    "    \"Tell me about this image and share the latest relevant news.\",\n",
    "    images=[\n",
    "        Image(\n",
    "            url=\"https://upload.wikimedia.org/wikipedia/commons/0/0c/GoldenGateBridge-001.jpg\"\n",
    "        )\n",
    "    ],\n",
    "    stream=True,\n",
    ")"
   ]
  },
  {
   "cell_type": "code",
   "execution_count": null,
   "id": "c55f4b29",
   "metadata": {},
   "outputs": [],
   "source": []
  }
 ],
 "metadata": {
  "kernelspec": {
   "display_name": "venv (3.12.10)",
   "language": "python",
   "name": "python3"
  },
  "language_info": {
   "codemirror_mode": {
    "name": "ipython",
    "version": 3
   },
   "file_extension": ".py",
   "mimetype": "text/x-python",
   "name": "python",
   "nbconvert_exporter": "python",
   "pygments_lexer": "ipython3",
   "version": "3.12.10"
  }
 },
 "nbformat": 4,
 "nbformat_minor": 5
}
