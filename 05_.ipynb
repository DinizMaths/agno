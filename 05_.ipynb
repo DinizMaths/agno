{
 "cells": [
  {
   "cell_type": "code",
   "execution_count": 1,
   "id": "192a4b67",
   "metadata": {},
   "outputs": [],
   "source": [
    "from textwrap import dedent\n",
    "\n",
    "from agno.agent import Agent\n",
    "from agno.models.openai import OpenAIChat\n",
    "from agno.team.team import Team\n",
    "from agno.tools.duckduckgo import DuckDuckGoTools\n",
    "from agno.tools.yfinance import YFinanceTools"
   ]
  },
  {
   "cell_type": "code",
   "execution_count": 2,
   "id": "0f04d8ed",
   "metadata": {},
   "outputs": [],
   "source": [
    "web_agent = Agent(\n",
    "    name=\"Web Agent\",\n",
    "    role=\"Search the web for information\",\n",
    "    model=OpenAIChat(id=\"gpt-4o-mini\"),\n",
    "    tools=[DuckDuckGoTools()],\n",
    "    instructions=dedent(\"\"\"\\\n",
    "        Você é um experiente pesquisador da web e analista de notícias! 🔍\n",
    "\n",
    "        Siga estes passos ao pesquisar informações:\n",
    "        1. Comece com as fontes mais recentes e relevantes\n",
    "        2. Verifique as informações em várias fontes\n",
    "        3. Priorize veículos de notícias respeitáveis e fontes oficiais\n",
    "        4. Sempre cite suas fontes com links\n",
    "        5. Foque em notícias que movimentam o mercado e desenvolvimentos significativos\n",
    "\n",
    "        Seu guia de estilo:\n",
    "        - Apresente as informações de forma clara e jornalística\n",
    "        - Use marcadores para os principais pontos\n",
    "        - Inclua citações relevantes quando disponíveis\n",
    "        - Especifique a data e hora de cada notícia\n",
    "        - Destaque o sentimento do mercado e as tendências da indústria\n",
    "        - Termine com uma breve análise da narrativa geral\n",
    "        - Preste atenção especial às notícias regulatórias, relatórios de lucros e anúncios estratégicos\\\n",
    "    \"\"\"),\n",
    "    show_tool_calls=True,\n",
    "    markdown=True,\n",
    ")"
   ]
  },
  {
   "cell_type": "code",
   "execution_count": 3,
   "id": "590c2f40",
   "metadata": {},
   "outputs": [],
   "source": [
    "finance_agent = Agent(\n",
    "    name=\"Finance Agent\",\n",
    "    role=\"Get financial data\",\n",
    "    model=OpenAIChat(id=\"gpt-4o-mini\"),\n",
    "    tools=[\n",
    "        YFinanceTools(stock_price=True, analyst_recommendations=True, company_info=True)\n",
    "    ],\n",
    "    instructions=dedent(\"\"\"\\\n",
    "        Você é um analista financeiro habilidoso com experiência em dados de mercado! 📊\n",
    "\n",
    "        Siga estes passos ao analisar dados financeiros:\n",
    "        1. Comece com o preço das ações mais recente, volume de negociação e faixa diária\n",
    "        2. Apresente recomendações detalhadas de analistas e preços-alvo de consenso\n",
    "        3. Inclua métricas-chave: P/E ratio, market cap, 52-week range\n",
    "        4. Analise padrões de negociação e tendências de volume\n",
    "        5. Compare o desempenho com índices setoriais relevantes\n",
    "\n",
    "        Seu guia de estilo:\n",
    "        - Use tabelas para apresentação de dados estruturados\n",
    "        - Inclua cabeçalhos claros para cada seção de dados\n",
    "        - Adicione explicações breves para termos técnicos\n",
    "        - Destaque mudanças notáveis com emojis (📈 📉)\n",
    "        - Use marcadores para insights rápidos\n",
    "        - Compare valores atuais com médias históricas\n",
    "        - Termine com uma perspectiva financeira baseada em dados\\\n",
    "    \"\"\"),\n",
    "    show_tool_calls=True,\n",
    "    markdown=True,\n",
    ")"
   ]
  },
  {
   "cell_type": "code",
   "execution_count": 4,
   "id": "dbdcd764",
   "metadata": {},
   "outputs": [],
   "source": [
    "agent_team = Team(\n",
    "    members=[web_agent, finance_agent],\n",
    "    model=OpenAIChat(id=\"gpt-4o-mini\"),\n",
    "    mode=\"coordinate\",\n",
    "    success_criteria=dedent(\"\"\"\\\n",
    "        A comprehensive financial news report with clear sections and data-driven insights.\n",
    "    \"\"\"),\n",
    "    instructions=dedent(\"\"\"\\\n",
    "        Você é o editor-chefe de uma prestigiosa redação de notícias financeiras! 📰\n",
    "\n",
    "        Seu papel:\n",
    "        1. Coordenar entre o pesquisador da web e o analista financeiro\n",
    "        2. Combinar suas descobertas em uma narrativa convincente\n",
    "        3. Garantir que todas as informações sejam devidamente verificadas e referenciadas\n",
    "        4. Apresentar uma visão equilibrada tanto das notícias quanto dos dados\n",
    "        5. Destacar riscos e oportunidades-chave\n",
    "\n",
    "        Seu guia de estilo:\n",
    "        - Comece com uma manchete chamativa\n",
    "        - Comece com um resumo executivo poderoso\n",
    "        - Apresente os dados financeiros primeiro, seguidos pelo contexto das notícias\n",
    "        - Use quebras de seção claras entre diferentes tipos de informações\n",
    "        - Inclua gráficos ou tabelas relevantes quando disponíveis\n",
    "        - Adicione uma seção de 'Sentimento do Mercado' com o humor atual\n",
    "        - Inclua uma seção de 'Principais Conclusões' no final\n",
    "        - Termine com 'Fatores de Risco' quando apropriado\n",
    "        - Assine como 'Equipe de Monitoramento do Mercado' e a data atual\\\n",
    "    \"\"\"),\n",
    "    add_datetime_to_instructions=True,\n",
    "    show_tool_calls=True,\n",
    "    markdown=True,\n",
    "    enable_agentic_context=True,\n",
    "    show_members_responses=False,\n",
    ")"
   ]
  },
  {
   "cell_type": "code",
   "execution_count": 5,
   "id": "a9228bf3",
   "metadata": {},
   "outputs": [
    {
     "data": {
      "application/vnd.jupyter.widget-view+json": {
       "model_id": "3e9ff2ef012947659d6dbeb56450e570",
       "version_major": 2,
       "version_minor": 0
      },
      "text/plain": [
       "Output()"
      ]
     },
     "metadata": {},
     "output_type": "display_data"
    },
    {
     "data": {
      "text/html": [
       "<pre style=\"white-space:pre;overflow-x:auto;line-height:normal;font-family:Menlo,'DejaVu Sans Mono',consolas,'Courier New',monospace\">/Users/matheus/Developer/agno/venv/lib/python3.12/site-packages/agno/tools/duckduckgo.py:90: RuntimeWarning: This \n",
       "package (`duckduckgo_search`) has been renamed to `ddgs`! Use `pip install ddgs` instead.\n",
       "  ddgs = DDGS(\n",
       "</pre>\n"
      ],
      "text/plain": [
       "/Users/matheus/Developer/agno/venv/lib/python3.12/site-packages/agno/tools/duckduckgo.py:90: RuntimeWarning: This \n",
       "package (`duckduckgo_search`) has been renamed to `ddgs`! Use `pip install ddgs` instead.\n",
       "  ddgs = DDGS(\n"
      ]
     },
     "metadata": {},
     "output_type": "display_data"
    },
    {
     "data": {
      "text/html": [
       "<pre style=\"white-space:pre;overflow-x:auto;line-height:normal;font-family:Menlo,'DejaVu Sans Mono',consolas,'Courier New',monospace\">&lt;string&gt;:13: ResourceWarning: unclosed &lt;ssl.SSLSocket fd=79, family=2, type=1, proto=0, laddr=('192.168.1.3', \n",
       "52392), raddr=('172.66.0.243', 443)&gt;\n",
       "ResourceWarning: Enable tracemalloc to get the object allocation traceback\n",
       "</pre>\n"
      ],
      "text/plain": [
       "<string>:13: ResourceWarning: unclosed <ssl.SSLSocket fd=79, family=2, type=1, proto=0, laddr=('192.168.1.3', \n",
       "52392), raddr=('172.66.0.243', 443)>\n",
       "ResourceWarning: Enable tracemalloc to get the object allocation traceback\n"
      ]
     },
     "metadata": {},
     "output_type": "display_data"
    },
    {
     "data": {
      "text/html": [
       "<pre style=\"white-space:pre;overflow-x:auto;line-height:normal;font-family:Menlo,'DejaVu Sans Mono',consolas,'Courier New',monospace\"></pre>\n"
      ],
      "text/plain": []
     },
     "metadata": {},
     "output_type": "display_data"
    }
   ],
   "source": [
    "agent_team.print_response(\n",
    "    message=\"Resuma as recomendações dos analistas e compartilhe as últimas notícias sobre a NVDA\",\n",
    "    stream=True,\n",
    ")"
   ]
  },
  {
   "cell_type": "code",
   "execution_count": 6,
   "id": "1f357a04",
   "metadata": {},
   "outputs": [
    {
     "data": {
      "application/vnd.jupyter.widget-view+json": {
       "model_id": "3a79b5666b6d46dbb3e11dd7ecafc48e",
       "version_major": 2,
       "version_minor": 0
      },
      "text/plain": [
       "Output()"
      ]
     },
     "metadata": {},
     "output_type": "display_data"
    },
    {
     "data": {
      "text/html": [
       "<pre style=\"white-space:pre;overflow-x:auto;line-height:normal;font-family:Menlo,'DejaVu Sans Mono',consolas,'Courier New',monospace\">/Users/matheus/Developer/agno/venv/lib/python3.12/site-packages/agno/tools/duckduckgo.py:90: RuntimeWarning: This \n",
       "package (`duckduckgo_search`) has been renamed to `ddgs`! Use `pip install ddgs` instead.\n",
       "  ddgs = DDGS(\n",
       "</pre>\n"
      ],
      "text/plain": [
       "/Users/matheus/Developer/agno/venv/lib/python3.12/site-packages/agno/tools/duckduckgo.py:90: RuntimeWarning: This \n",
       "package (`duckduckgo_search`) has been renamed to `ddgs`! Use `pip install ddgs` instead.\n",
       "  ddgs = DDGS(\n"
      ]
     },
     "metadata": {},
     "output_type": "display_data"
    },
    {
     "data": {
      "text/html": [
       "<pre style=\"white-space:pre;overflow-x:auto;line-height:normal;font-family:Menlo,'DejaVu Sans Mono',consolas,'Courier New',monospace\"></pre>\n"
      ],
      "text/plain": []
     },
     "metadata": {},
     "output_type": "display_data"
    }
   ],
   "source": [
    "agent_team.print_response(\n",
    "    message=\"Qual é a perspectiva do mercado e o desempenho financeiro das empresas de semicondutores de IA?\",\n",
    "    stream=True,\n",
    ")"
   ]
  },
  {
   "cell_type": "code",
   "execution_count": 7,
   "id": "9ae7d964",
   "metadata": {},
   "outputs": [
    {
     "data": {
      "application/vnd.jupyter.widget-view+json": {
       "model_id": "2fbdd55bca4b43d1b87e5967100f7905",
       "version_major": 2,
       "version_minor": 0
      },
      "text/plain": [
       "Output()"
      ]
     },
     "metadata": {},
     "output_type": "display_data"
    },
    {
     "data": {
      "text/html": [
       "<pre style=\"white-space:pre;overflow-x:auto;line-height:normal;font-family:Menlo,'DejaVu Sans Mono',consolas,'Courier New',monospace\">/Users/matheus/Developer/agno/venv/lib/python3.12/site-packages/agno/tools/duckduckgo.py:90: RuntimeWarning: This \n",
       "package (`duckduckgo_search`) has been renamed to `ddgs`! Use `pip install ddgs` instead.\n",
       "  ddgs = DDGS(\n",
       "</pre>\n"
      ],
      "text/plain": [
       "/Users/matheus/Developer/agno/venv/lib/python3.12/site-packages/agno/tools/duckduckgo.py:90: RuntimeWarning: This \n",
       "package (`duckduckgo_search`) has been renamed to `ddgs`! Use `pip install ddgs` instead.\n",
       "  ddgs = DDGS(\n"
      ]
     },
     "metadata": {},
     "output_type": "display_data"
    },
    {
     "data": {
      "text/html": [
       "<pre style=\"white-space:pre;overflow-x:auto;line-height:normal;font-family:Menlo,'DejaVu Sans Mono',consolas,'Courier New',monospace\">/Library/Frameworks/Python.framework/Versions/3.12/lib/python3.12/inspect.py:592: ResourceWarning: unclosed \n",
       "&lt;ssl.SSLSocket fd=77, family=2, type=1, proto=0, laddr=('192.168.1.3', 52420), raddr=('172.66.0.243', 443)&gt;\n",
       "  value = getter(object, key)\n",
       "ResourceWarning: Enable tracemalloc to get the object allocation traceback\n",
       "</pre>\n"
      ],
      "text/plain": [
       "/Library/Frameworks/Python.framework/Versions/3.12/lib/python3.12/inspect.py:592: ResourceWarning: unclosed \n",
       "<ssl.SSLSocket fd=77, family=2, type=1, proto=0, laddr=('192.168.1.3', 52420), raddr=('172.66.0.243', 443)>\n",
       "  value = getter(object, key)\n",
       "ResourceWarning: Enable tracemalloc to get the object allocation traceback\n"
      ]
     },
     "metadata": {},
     "output_type": "display_data"
    },
    {
     "data": {
      "text/html": [
       "<pre style=\"white-space:pre;overflow-x:auto;line-height:normal;font-family:Menlo,'DejaVu Sans Mono',consolas,'Courier New',monospace\"></pre>\n"
      ],
      "text/plain": []
     },
     "metadata": {},
     "output_type": "display_data"
    }
   ],
   "source": [
    "agent_team.print_response(\n",
    "    message=\"Analise os desenvolvimentos recentes e o desempenho financeiro da TSLA\",\n",
    "    stream=True,\n",
    ")"
   ]
  },
  {
   "cell_type": "code",
   "execution_count": 8,
   "id": "3d09b2ac",
   "metadata": {},
   "outputs": [],
   "source": [
    "test_agent_1 = Agent(\n",
    "    name=\"Test Agent 1\",\n",
    "    role=\"Just say 'Hello, world!'\",\n",
    "    model=OpenAIChat(id=\"gpt-4o-mini\"),\n",
    "    tools=[],\n",
    "    instructions=dedent(\"\"\"\\\n",
    "        Apenas diga \"Olá, mundo!\"\n",
    "    \"\"\"),\n",
    "    show_tool_calls=True,\n",
    "    markdown=True,\n",
    ")\n",
    "\n",
    "test_agent_2 = Agent(\n",
    "    name=\"Test Agent 2\",\n",
    "    role=\"Just say 'Goodbye, world!'\",\n",
    "    model=OpenAIChat(id=\"gpt-4o-mini\"),\n",
    "    tools=[],\n",
    "    instructions=dedent(\"\"\"\\\n",
    "        Apenas diga \"Adeus, mundo!\"\n",
    "    \"\"\"),\n",
    "    show_tool_calls=True,\n",
    "    markdown=True,\n",
    ")\n",
    "\n",
    "test_agent_3 = Agent(\n",
    "    name=\"Test Agent 3\",\n",
    "    role=\"Just say 'Hello again, world!'\",\n",
    "    model=OpenAIChat(id=\"gpt-4o-mini\"),\n",
    "    tools=[],\n",
    "    instructions=dedent(\"\"\"\\\n",
    "        Apenas diga \"Olá novamente, mundo!\"\n",
    "    \"\"\"),\n",
    "    show_tool_calls=True,\n",
    "    markdown=True,\n",
    ")\n",
    "\n",
    "test_agent_4 = Agent(\n",
    "    name=\"Test Agent 4\",\n",
    "    role=\"Just say 'Goodbye again, world!'\",\n",
    "    model=OpenAIChat(id=\"gpt-4o-mini\"),\n",
    "    tools=[],\n",
    "    instructions=dedent(\"\"\"\\\n",
    "        Apenas diga \"Adeus novamente, mundo!\"\n",
    "    \"\"\"),\n",
    "    show_tool_calls=True,\n",
    "    markdown=True,\n",
    ")\n"
   ]
  },
  {
   "cell_type": "code",
   "execution_count": 9,
   "id": "d6b5344b",
   "metadata": {},
   "outputs": [],
   "source": [
    "test_team_1 = Team(\n",
    "    members=[test_agent_1, test_agent_2],\n",
    "    model=OpenAIChat(id=\"gpt-4o-mini\"),\n",
    "    mode=\"coordinate\",\n",
    "    success_criteria=dedent(\"\"\"\\\n",
    "        A team that successfully communicates between agents.\n",
    "    \"\"\"),\n",
    "    instructions=dedent(\"\"\"\\\n",
    "        Você é um coordenador de equipe que garante que os agentes se comuniquem corretamente.\n",
    "        Certifique-se de que cada agente responda com a mensagem correta.\n",
    "    \"\"\"),\n",
    "    add_datetime_to_instructions=True,\n",
    "    show_tool_calls=True,\n",
    "    markdown=True,\n",
    ")\n",
    "\n",
    "test_team_2 = Team(\n",
    "    members=[test_agent_3, test_agent_4],\n",
    "    model=OpenAIChat(id=\"gpt-4o-mini\"),\n",
    "    mode=\"coordinate\",\n",
    "    success_criteria=dedent(\"\"\"\\\n",
    "        A team that successfully communicates between agents.\n",
    "    \"\"\"),\n",
    "    instructions=dedent(\"\"\"\\\n",
    "        Você é um coordenador de equipe que garante que os agentes se comuniquem corretamente.\n",
    "        Certifique-se de que cada agente responda com a mensagem correta.\n",
    "    \"\"\"),\n",
    "    add_datetime_to_instructions=True,\n",
    "    show_tool_calls=True,\n",
    "    markdown=True,\n",
    ")\n",
    "\n",
    "test_supervisor = Team(\n",
    "    members=[test_team_1, test_team_2],\n",
    "    model=OpenAIChat(id=\"gpt-4o-mini\"),\n",
    "    mode=\"supervise\",\n",
    "    success_criteria=dedent(\"\"\"\\\n",
    "        A supervisor that successfully oversees the communication between teams.\n",
    "    \"\"\"),\n",
    "    instructions=dedent(\"\"\"\\\n",
    "        Você é um supervisor que garante que as equipes se comuniquem corretamente.\n",
    "        Certifique-se de que cada equipe responda com a mensagem correta.\n",
    "    \"\"\"),\n",
    "    add_datetime_to_instructions=True,\n",
    "    show_tool_calls=True,\n",
    "    markdown=True,\n",
    ")"
   ]
  },
  {
   "cell_type": "code",
   "execution_count": 10,
   "id": "7bc45da5",
   "metadata": {},
   "outputs": [
    {
     "data": {
      "application/vnd.jupyter.widget-view+json": {
       "model_id": "9a4d931beef4412ea70f422d4b3f620a",
       "version_major": 2,
       "version_minor": 0
      },
      "text/plain": [
       "Output()"
      ]
     },
     "metadata": {},
     "output_type": "display_data"
    },
    {
     "data": {
      "text/html": [
       "<pre style=\"white-space:pre;overflow-x:auto;line-height:normal;font-family:Menlo,'DejaVu Sans Mono',consolas,'Courier New',monospace\"></pre>\n"
      ],
      "text/plain": []
     },
     "metadata": {},
     "output_type": "display_data"
    }
   ],
   "source": [
    "test_supervisor.print_response(\n",
    "    message=\"Qual é a mensagem de cada agente?\",\n",
    "    stream=True,\n",
    ")"
   ]
  },
  {
   "cell_type": "code",
   "execution_count": null,
   "id": "76f03086",
   "metadata": {},
   "outputs": [],
   "source": []
  }
 ],
 "metadata": {
  "kernelspec": {
   "display_name": "venv (3.12.10)",
   "language": "python",
   "name": "python3"
  },
  "language_info": {
   "codemirror_mode": {
    "name": "ipython",
    "version": 3
   },
   "file_extension": ".py",
   "mimetype": "text/x-python",
   "name": "python",
   "nbconvert_exporter": "python",
   "pygments_lexer": "ipython3",
   "version": "3.12.10"
  }
 },
 "nbformat": 4,
 "nbformat_minor": 5
}
