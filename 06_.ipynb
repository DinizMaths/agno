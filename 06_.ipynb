{
 "cells": [
  {
   "cell_type": "code",
   "execution_count": 1,
   "id": "91cc8184",
   "metadata": {},
   "outputs": [],
   "source": [
    "from textwrap import dedent\n",
    "from typing import List\n",
    "\n",
    "from agno.agent import Agent, RunResponse  # noqa\n",
    "from agno.models.openai import OpenAIChat\n",
    "from pydantic import BaseModel, Field"
   ]
  },
  {
   "cell_type": "code",
   "execution_count": 2,
   "id": "799cde5a",
   "metadata": {},
   "outputs": [],
   "source": [
    "class MovieScript(BaseModel):\n",
    "    setting: str = Field(\n",
    "        ...,\n",
    "        description=\"A richly detailed, atmospheric description of the movie's primary location and time period. Include sensory details and mood.\",\n",
    "    )\n",
    "    ending: str = Field(\n",
    "        ...,\n",
    "        description=\"The movie's powerful conclusion that ties together all plot threads. Should deliver emotional impact and satisfaction.\",\n",
    "    )\n",
    "    genre: str = Field(\n",
    "        ...,\n",
    "        description=\"The film's primary and secondary genres (e.g., 'Sci-fi Thriller', 'Romantic Comedy'). Should align with setting and tone.\",\n",
    "    )\n",
    "    name: str = Field(\n",
    "        ...,\n",
    "        description=\"An attention-grabbing, memorable title that captures the essence of the story and appeals to target audience.\",\n",
    "    )\n",
    "    characters: List[str] = Field(\n",
    "        ...,\n",
    "        description=\"4-6 main characters with distinctive names and brief role descriptions (e.g., 'Sarah Chen - brilliant quantum physicist with a dark secret').\",\n",
    "    )\n",
    "    storyline: str = Field(\n",
    "        ...,\n",
    "        description=\"A compelling three-sentence plot summary: Setup, Conflict, and Stakes. Hook readers with intrigue and emotion.\",\n",
    "    )"
   ]
  },
  {
   "cell_type": "code",
   "execution_count": 10,
   "id": "9ee8221c",
   "metadata": {},
   "outputs": [],
   "source": [
    "json_mode_agent = Agent(\n",
    "    model=OpenAIChat(id=\"gpt-4o-mini\"),\n",
    "    description=dedent(\"\"\"\\\n",
    "        You are an acclaimed Hollywood screenwriter known for creating unforgettable blockbusters! 🎬\n",
    "        With the combined storytelling prowess of Christopher Nolan, Aaron Sorkin, and Quentin Tarantino,\n",
    "        you craft unique stories that captivate audiences worldwide.\n",
    "\n",
    "        Your specialty is turning locations into living, breathing characters that drive the narrative.\\\n",
    "    \"\"\"),\n",
    "    instructions=dedent(\"\"\"\\\n",
    "        When crafting movie concepts, follow these principles:\n",
    "\n",
    "        1. Settings should be characters:\n",
    "           - Make locations come alive with sensory details\n",
    "           - Include atmospheric elements that affect the story\n",
    "           - Consider the time period's impact on the narrative\n",
    "\n",
    "        2. Character Development:\n",
    "           - Give each character a unique voice and clear motivation\n",
    "           - Create compelling relationships and conflicts\n",
    "           - Ensure diverse representation and authentic backgrounds\n",
    "\n",
    "        3. Story Structure:\n",
    "           - Begin with a hook that grabs attention\n",
    "           - Build tension through escalating conflicts\n",
    "           - Deliver surprising yet inevitable endings\n",
    "\n",
    "        4. Genre Mastery:\n",
    "           - Embrace genre conventions while adding fresh twists\n",
    "           - Mix genres thoughtfully for unique combinations\n",
    "           - Maintain consistent tone throughout\n",
    "\n",
    "        Transform every location into an unforgettable cinematic experience!\\\n",
    "    \"\"\"),\n",
    "    response_model=MovieScript,\n",
    "    use_json_mode=True,\n",
    ")"
   ]
  },
  {
   "cell_type": "code",
   "execution_count": 11,
   "id": "f8350bec",
   "metadata": {},
   "outputs": [
    {
     "data": {
      "application/vnd.jupyter.widget-view+json": {
       "model_id": "f25be2ee208c42e8805126d890eff345",
       "version_major": 2,
       "version_minor": 0
      },
      "text/plain": [
       "Output()"
      ]
     },
     "metadata": {},
     "output_type": "display_data"
    },
    {
     "data": {
      "text/html": [
       "<pre style=\"white-space:pre;overflow-x:auto;line-height:normal;font-family:Menlo,'DejaVu Sans Mono',consolas,'Courier New',monospace\"></pre>\n"
      ],
      "text/plain": []
     },
     "metadata": {},
     "output_type": "display_data"
    }
   ],
   "source": [
    "json_mode_agent.print_response(\"Tokyo\", stream=True)"
   ]
  },
  {
   "cell_type": "code",
   "execution_count": 12,
   "id": "3d268517",
   "metadata": {},
   "outputs": [],
   "source": [
    "structured_output_agent = Agent(\n",
    "    model=OpenAIChat(id=\"gpt-4o-mini\"),\n",
    "    description=dedent(\"\"\"\\\n",
    "        You are an acclaimed Hollywood screenwriter known for creating unforgettable blockbusters! 🎬\n",
    "        With the combined storytelling prowess of Christopher Nolan, Aaron Sorkin, and Quentin Tarantino,\n",
    "        you craft unique stories that captivate audiences worldwide.\n",
    "\n",
    "        Your specialty is turning locations into living, breathing characters that drive the narrative.\\\n",
    "    \"\"\"),\n",
    "    instructions=dedent(\"\"\"\\\n",
    "        When crafting movie concepts, follow these principles:\n",
    "\n",
    "        1. Settings should be characters:\n",
    "           - Make locations come alive with sensory details\n",
    "           - Include atmospheric elements that affect the story\n",
    "           - Consider the time period's impact on the narrative\n",
    "\n",
    "        2. Character Development:\n",
    "           - Give each character a unique voice and clear motivation\n",
    "           - Create compelling relationships and conflicts\n",
    "           - Ensure diverse representation and authentic backgrounds\n",
    "\n",
    "        3. Story Structure:\n",
    "           - Begin with a hook that grabs attention\n",
    "           - Build tension through escalating conflicts\n",
    "           - Deliver surprising yet inevitable endings\n",
    "\n",
    "        4. Genre Mastery:\n",
    "           - Embrace genre conventions while adding fresh twists\n",
    "           - Mix genres thoughtfully for unique combinations\n",
    "           - Maintain consistent tone throughout\n",
    "\n",
    "        Transform every location into an unforgettable cinematic experience!\\\n",
    "    \"\"\"),\n",
    "    response_model=MovieScript,\n",
    "    use_json_mode=False,\n",
    ")"
   ]
  },
  {
   "cell_type": "code",
   "execution_count": 13,
   "id": "d6142b9b",
   "metadata": {},
   "outputs": [
    {
     "data": {
      "application/vnd.jupyter.widget-view+json": {
       "model_id": "b98bc21449274023a52de0e61e508247",
       "version_major": 2,
       "version_minor": 0
      },
      "text/plain": [
       "Output()"
      ]
     },
     "metadata": {},
     "output_type": "display_data"
    },
    {
     "data": {
      "text/html": [
       "<pre style=\"white-space:pre;overflow-x:auto;line-height:normal;font-family:Menlo,'DejaVu Sans Mono',consolas,'Courier New',monospace\"></pre>\n"
      ],
      "text/plain": []
     },
     "metadata": {},
     "output_type": "display_data"
    }
   ],
   "source": [
    "structured_output_agent.print_response(\"Ancient Rome\", stream=True)"
   ]
  },
  {
   "cell_type": "code",
   "execution_count": null,
   "id": "4f45e6ef",
   "metadata": {},
   "outputs": [],
   "source": []
  }
 ],
 "metadata": {
  "kernelspec": {
   "display_name": "venv (3.12.10)",
   "language": "python",
   "name": "python3"
  },
  "language_info": {
   "codemirror_mode": {
    "name": "ipython",
    "version": 3
   },
   "file_extension": ".py",
   "mimetype": "text/x-python",
   "name": "python",
   "nbconvert_exporter": "python",
   "pygments_lexer": "ipython3",
   "version": "3.12.10"
  }
 },
 "nbformat": 4,
 "nbformat_minor": 5
}
