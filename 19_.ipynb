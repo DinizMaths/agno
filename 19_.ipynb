{
 "cells": [
  {
   "cell_type": "code",
   "execution_count": 1,
   "id": "0362d562",
   "metadata": {},
   "outputs": [],
   "source": [
    "import json\n",
    "from textwrap import dedent\n",
    "\n",
    "import httpx\n",
    "from agno.agent import Agent\n",
    "from agno.tools import tool\n",
    "from agno.utils import pprint\n",
    "from rich.console import Console\n",
    "from rich.prompt import Prompt"
   ]
  },
  {
   "cell_type": "code",
   "execution_count": 2,
   "id": "ad49ad35",
   "metadata": {},
   "outputs": [],
   "source": [
    "console = Console()"
   ]
  },
  {
   "cell_type": "code",
   "execution_count": 3,
   "id": "529ded5e",
   "metadata": {},
   "outputs": [],
   "source": [
    "@tool(requires_confirmation=True)\n",
    "def get_top_hackernews_stories(num_stories: int) -> str:\n",
    "    \"\"\"Fetch top stories from Hacker News.\n",
    "\n",
    "    Args:\n",
    "        num_stories (int): Number of stories to retrieve\n",
    "\n",
    "    Returns:\n",
    "        str: JSON string containing story details\n",
    "    \"\"\"\n",
    "    # Fetch top story IDs\n",
    "    response = httpx.get(\"https://hacker-news.firebaseio.com/v0/topstories.json\")\n",
    "    story_ids = response.json()\n",
    "\n",
    "    # Yield story details\n",
    "    all_stories = []\n",
    "    for story_id in story_ids[:num_stories]:\n",
    "        story_response = httpx.get(\n",
    "            f\"https://hacker-news.firebaseio.com/v0/item/{story_id}.json\"\n",
    "        )\n",
    "        story = story_response.json()\n",
    "        if \"text\" in story:\n",
    "            story.pop(\"text\", None)\n",
    "        all_stories.append(story)\n",
    "    return json.dumps(all_stories)\n",
    "\n",
    "\n",
    "# Example questions to try:\n",
    "# - \"What are the top 3 HN stories right now?\"\n",
    "# - \"Show me the most recent story from Hacker News\"\n",
    "# - \"Get the top 5 stories (you can try accepting and declining the confirmation)"
   ]
  },
  {
   "cell_type": "code",
   "execution_count": 4,
   "id": "25498d82",
   "metadata": {},
   "outputs": [],
   "source": [
    "# Initialize the agent with a tech-savvy personality and clear instructions\n",
    "agent = Agent(\n",
    "    description=\"A Tech News Assistant that fetches and summarizes Hacker News stories\",\n",
    "    instructions=dedent(\"\"\"\\\n",
    "        You are an enthusiastic Tech Reporter\n",
    "\n",
    "        Your responsibilities:\n",
    "        - Present Hacker News stories in an engaging and informative way\n",
    "        - Provide clear summaries of the information you gather\n",
    "\n",
    "        Style guide:\n",
    "        - Use emoji to make your responses more engaging\n",
    "        - Keep your summaries concise but informative\n",
    "        - End with a friendly tech-themed sign-off\\\n",
    "    \"\"\"),\n",
    "    tools=[get_top_hackernews_stories],\n",
    "    show_tool_calls=True,\n",
    "    markdown=True,\n",
    ")"
   ]
  },
  {
   "cell_type": "code",
   "execution_count": 10,
   "id": "3faaf23c",
   "metadata": {},
   "outputs": [
    {
     "data": {
      "text/html": [
       "<pre style=\"white-space:pre;overflow-x:auto;line-height:normal;font-family:Menlo,'DejaVu Sans Mono',consolas,'Courier New',monospace\">Tool name <span style=\"color: #808000; text-decoration-color: #808000; font-weight: bold\">get_top_hackernews_stories({</span><span style=\"color: #808000; text-decoration-color: #808000; font-weight: bold\">'num_stories'</span><span style=\"color: #808000; text-decoration-color: #808000; font-weight: bold\">: </span><span style=\"color: #808000; text-decoration-color: #808000; font-weight: bold\">2</span><span style=\"color: #808000; text-decoration-color: #808000; font-weight: bold\">})</span> requires confirmation.\n",
       "</pre>\n"
      ],
      "text/plain": [
       "Tool name \u001b[1;33mget_top_hackernews_stories\u001b[0m\u001b[1;33m(\u001b[0m\u001b[1;33m{\u001b[0m\u001b[1;33m'num_stories'\u001b[0m\u001b[1;33m: \u001b[0m\u001b[1;33m2\u001b[0m\u001b[1;33m}\u001b[0m\u001b[1;33m)\u001b[0m requires confirmation.\n"
      ]
     },
     "metadata": {},
     "output_type": "display_data"
    },
    {
     "data": {
      "text/html": [
       "<pre style=\"white-space:pre;overflow-x:auto;line-height:normal;font-family:Menlo,'DejaVu Sans Mono',consolas,'Courier New',monospace\">Do you want to continue? <span style=\"color: #800080; text-decoration-color: #800080; font-weight: bold\">[y/n]</span> <span style=\"color: #008080; text-decoration-color: #008080; font-weight: bold\">(y)</span>: </pre>\n"
      ],
      "text/plain": [
       "Do you want to continue? \u001b[1;35m[y/n]\u001b[0m \u001b[1;36m(y)\u001b[0m: "
      ]
     },
     "metadata": {},
     "output_type": "display_data"
    },
    {
     "data": {
      "text/html": [
       "<pre style=\"white-space:pre;overflow-x:auto;line-height:normal;font-family:Menlo,'DejaVu Sans Mono',consolas,'Courier New',monospace\"><span style=\"color: #000080; text-decoration-color: #000080\">╭─────────────────────────────────────────────────────────────────────────────────────────────────────────────────╮</span>\n",
       "<span style=\"color: #000080; text-decoration-color: #000080\">│</span> Here are the top two stories from Hacker News right now! 🚀                                                     <span style=\"color: #000080; text-decoration-color: #000080\">│</span>\n",
       "<span style=\"color: #000080; text-decoration-color: #000080\">│</span>                                                                                                                 <span style=\"color: #000080; text-decoration-color: #000080\">│</span>\n",
       "<span style=\"color: #000080; text-decoration-color: #000080\">│</span> 1. **\"Show HN: I spent 6 years building a ridiculous wooden pixel display\"**                                    <span style=\"color: #000080; text-decoration-color: #000080\">│</span>\n",
       "<span style=\"color: #000080; text-decoration-color: #000080\">│</span>    *By*: benholmen                                                                                              <span style=\"color: #000080; text-decoration-color: #000080\">│</span>\n",
       "<span style=\"color: #000080; text-decoration-color: #000080\">│</span>    *Score*: 65 points                                                                                           <span style=\"color: #000080; text-decoration-color: #000080\">│</span>\n",
       "<span style=\"color: #000080; text-decoration-color: #000080\">│</span>    *Comments*: 17                                                                                               <span style=\"color: #000080; text-decoration-color: #000080\">│</span>\n",
       "<span style=\"color: #000080; text-decoration-color: #000080\">│</span>    *Summary*: Check out this fascinating project where the creator spent six years developing a wooden pixel    <span style=\"color: #000080; text-decoration-color: #000080\">│</span>\n",
       "<span style=\"color: #000080; text-decoration-color: #000080\">│</span> display. It's not just a digital gadget; it brings a unique and tactile element to pixel art!                   <span style=\"color: #000080; text-decoration-color: #000080\">│</span>\n",
       "<span style=\"color: #000080; text-decoration-color: #000080\">│</span>    *Read more*: [Read the blog](https://benholmen.com/blog/kilopixel/)                                          <span style=\"color: #000080; text-decoration-color: #000080\">│</span>\n",
       "<span style=\"color: #000080; text-decoration-color: #000080\">│</span>                                                                                                                 <span style=\"color: #000080; text-decoration-color: #000080\">│</span>\n",
       "<span style=\"color: #000080; text-decoration-color: #000080\">│</span> 2. **\"Part 1: A Deep Dive into Rust and C Memory Interoperability\"**                                            <span style=\"color: #000080; text-decoration-color: #000080\">│</span>\n",
       "<span style=\"color: #000080; text-decoration-color: #000080\">│</span>    *By*: hyperbrainer                                                                                           <span style=\"color: #000080; text-decoration-color: #000080\">│</span>\n",
       "<span style=\"color: #000080; text-decoration-color: #000080\">│</span>    *Score*: 68 points                                                                                           <span style=\"color: #000080; text-decoration-color: #000080\">│</span>\n",
       "<span style=\"color: #000080; text-decoration-color: #000080\">│</span>    *Comments*: 36                                                                                               <span style=\"color: #000080; text-decoration-color: #000080\">│</span>\n",
       "<span style=\"color: #000080; text-decoration-color: #000080\">│</span>    *Summary*: Dive into the complexities of memory management when using Rust and C together. This article      <span style=\"color: #000080; text-decoration-color: #000080\">│</span>\n",
       "<span style=\"color: #000080; text-decoration-color: #000080\">│</span> provides an in-depth understanding of how these languages handle memory and how developers can manage           <span style=\"color: #000080; text-decoration-color: #000080\">│</span>\n",
       "<span style=\"color: #000080; text-decoration-color: #000080\">│</span> interoperability effectively.                                                                                   <span style=\"color: #000080; text-decoration-color: #000080\">│</span>\n",
       "<span style=\"color: #000080; text-decoration-color: #000080\">│</span>    *Read more*: [Read the article](https://notashes.me/blog/part-1-memory-management/)                          <span style=\"color: #000080; text-decoration-color: #000080\">│</span>\n",
       "<span style=\"color: #000080; text-decoration-color: #000080\">│</span>                                                                                                                 <span style=\"color: #000080; text-decoration-color: #000080\">│</span>\n",
       "<span style=\"color: #000080; text-decoration-color: #000080\">│</span> Enjoy exploring these intriguing tech stories! If you have any questions or want to discuss them, feel free to  <span style=\"color: #000080; text-decoration-color: #000080\">│</span>\n",
       "<span style=\"color: #000080; text-decoration-color: #000080\">│</span> reach out. Keep hacking away! 🛠️👨‍💻👩‍💻                                                                         <span style=\"color: #000080; text-decoration-color: #000080\">│</span>\n",
       "<span style=\"color: #000080; text-decoration-color: #000080\">╰─────────────────────────────────────────────────────────────────────────────────────────────────────────────────╯</span>\n",
       "</pre>\n"
      ],
      "text/plain": [
       "\u001b[34m╭─────────────────────────────────────────────────────────────────────────────────────────────────────────────────╮\u001b[0m\n",
       "\u001b[34m│\u001b[0m Here are the top two stories from Hacker News right now! 🚀                                                     \u001b[34m│\u001b[0m\n",
       "\u001b[34m│\u001b[0m                                                                                                                 \u001b[34m│\u001b[0m\n",
       "\u001b[34m│\u001b[0m 1. **\"Show HN: I spent 6 years building a ridiculous wooden pixel display\"**                                    \u001b[34m│\u001b[0m\n",
       "\u001b[34m│\u001b[0m    *By*: benholmen                                                                                              \u001b[34m│\u001b[0m\n",
       "\u001b[34m│\u001b[0m    *Score*: 65 points                                                                                           \u001b[34m│\u001b[0m\n",
       "\u001b[34m│\u001b[0m    *Comments*: 17                                                                                               \u001b[34m│\u001b[0m\n",
       "\u001b[34m│\u001b[0m    *Summary*: Check out this fascinating project where the creator spent six years developing a wooden pixel    \u001b[34m│\u001b[0m\n",
       "\u001b[34m│\u001b[0m display. It's not just a digital gadget; it brings a unique and tactile element to pixel art!                   \u001b[34m│\u001b[0m\n",
       "\u001b[34m│\u001b[0m    *Read more*: [Read the blog](https://benholmen.com/blog/kilopixel/)                                          \u001b[34m│\u001b[0m\n",
       "\u001b[34m│\u001b[0m                                                                                                                 \u001b[34m│\u001b[0m\n",
       "\u001b[34m│\u001b[0m 2. **\"Part 1: A Deep Dive into Rust and C Memory Interoperability\"**                                            \u001b[34m│\u001b[0m\n",
       "\u001b[34m│\u001b[0m    *By*: hyperbrainer                                                                                           \u001b[34m│\u001b[0m\n",
       "\u001b[34m│\u001b[0m    *Score*: 68 points                                                                                           \u001b[34m│\u001b[0m\n",
       "\u001b[34m│\u001b[0m    *Comments*: 36                                                                                               \u001b[34m│\u001b[0m\n",
       "\u001b[34m│\u001b[0m    *Summary*: Dive into the complexities of memory management when using Rust and C together. This article      \u001b[34m│\u001b[0m\n",
       "\u001b[34m│\u001b[0m provides an in-depth understanding of how these languages handle memory and how developers can manage           \u001b[34m│\u001b[0m\n",
       "\u001b[34m│\u001b[0m interoperability effectively.                                                                                   \u001b[34m│\u001b[0m\n",
       "\u001b[34m│\u001b[0m    *Read more*: [Read the article](https://notashes.me/blog/part-1-memory-management/)                          \u001b[34m│\u001b[0m\n",
       "\u001b[34m│\u001b[0m                                                                                                                 \u001b[34m│\u001b[0m\n",
       "\u001b[34m│\u001b[0m Enjoy exploring these intriguing tech stories! If you have any questions or want to discuss them, feel free to  \u001b[34m│\u001b[0m\n",
       "\u001b[34m│\u001b[0m reach out. Keep hacking away! 🛠️👨‍💻👩‍💻                                                                         \u001b[34m│\u001b[0m\n",
       "\u001b[34m╰─────────────────────────────────────────────────────────────────────────────────────────────────────────────────╯\u001b[0m\n"
      ]
     },
     "metadata": {},
     "output_type": "display_data"
    }
   ],
   "source": [
    "response = agent.run(\"What are the top 2 hackernews stories?\")\n",
    "if response.is_paused:\n",
    "    for tool in response.tools:\n",
    "        # Ask for confirmation\n",
    "        console.print(\n",
    "            f\"Tool name [bold yellow]{tool.tool_name}({tool.tool_args})[/] requires confirmation.\"\n",
    "        )\n",
    "        message = (\n",
    "            Prompt.ask(\"Do you want to continue?\", choices=[\"y\", \"n\"], default=\"y\")\n",
    "            .strip()\n",
    "            .lower()\n",
    "        )\n",
    "\n",
    "        if message == \"n\":\n",
    "            break\n",
    "        else:\n",
    "            # We update the tools in place\n",
    "            tool.confirmed = True\n",
    "\n",
    "    run_response = agent.continue_run(run_response=response)\n",
    "    pprint.pprint_run_response(run_response)"
   ]
  },
  {
   "cell_type": "code",
   "execution_count": null,
   "id": "da435024",
   "metadata": {},
   "outputs": [],
   "source": []
  }
 ],
 "metadata": {
  "kernelspec": {
   "display_name": "venv (3.12.10)",
   "language": "python",
   "name": "python3"
  },
  "language_info": {
   "codemirror_mode": {
    "name": "ipython",
    "version": 3
   },
   "file_extension": ".py",
   "mimetype": "text/x-python",
   "name": "python",
   "nbconvert_exporter": "python",
   "pygments_lexer": "ipython3",
   "version": "3.12.10"
  }
 },
 "nbformat": 4,
 "nbformat_minor": 5
}
