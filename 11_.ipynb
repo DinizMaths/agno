{
 "cells": [
  {
   "cell_type": "code",
   "execution_count": 1,
   "id": "69cf78ef",
   "metadata": {},
   "outputs": [],
   "source": [
    "from textwrap import dedent\n",
    "\n",
    "from agno.agent import Agent\n",
    "from agno.models.openai import OpenAIChat\n",
    "from agno.tools.dalle import DalleTools"
   ]
  },
  {
   "cell_type": "code",
   "execution_count": 2,
   "id": "b44f063a",
   "metadata": {},
   "outputs": [],
   "source": [
    "image_agent = Agent(\n",
    "    model=OpenAIChat(id=\"gpt-4o-mini\"),\n",
    "    tools=[DalleTools()],\n",
    "    description=dedent(\"\"\"\\\n",
    "        You are an experienced AI artist with expertise in various artistic styles,\n",
    "        from photorealism to abstract art. You have a deep understanding of composition,\n",
    "        color theory, and visual storytelling.\\\n",
    "    \"\"\"),\n",
    "    instructions=dedent(\"\"\"\\\n",
    "        As an AI artist, follow these guidelines:\n",
    "        1. Analyze the user's request carefully to understand the desired style and mood\n",
    "        2. Before generating, enhance the prompt with artistic details like lighting, perspective, and atmosphere\n",
    "        3. Use the `create_image` tool with detailed, well-crafted prompts\n",
    "        4. Provide a brief explanation of the artistic choices made\n",
    "        5. If the request is unclear, ask for clarification about style preferences\n",
    "\n",
    "        Always aim to create visually striking and meaningful images that capture the user's vision!\\\n",
    "    \"\"\"),\n",
    "    markdown=True,\n",
    "    show_tool_calls=True,\n",
    ")"
   ]
  },
  {
   "cell_type": "code",
   "execution_count": 3,
   "id": "404755eb",
   "metadata": {},
   "outputs": [
    {
     "data": {
      "application/vnd.jupyter.widget-view+json": {
       "model_id": "8c3d270038d145a9a1fa9451b41aa3d5",
       "version_major": 2,
       "version_minor": 0
      },
      "text/plain": [
       "Output()"
      ]
     },
     "metadata": {},
     "output_type": "display_data"
    },
    {
     "data": {
      "text/html": [
       "<pre style=\"white-space:pre;overflow-x:auto;line-height:normal;font-family:Menlo,'DejaVu Sans Mono',consolas,'Courier New',monospace\"></pre>\n"
      ],
      "text/plain": []
     },
     "metadata": {},
     "output_type": "display_data"
    }
   ],
   "source": [
    "image_agent.print_response(\n",
    "    \"Create a magical library with floating books and glowing crystals\", stream=True\n",
    ")"
   ]
  },
  {
   "cell_type": "code",
   "execution_count": 4,
   "id": "06d4e727",
   "metadata": {},
   "outputs": [
    {
     "name": "stdout",
     "output_type": "stream",
     "text": [
      "Generated image URL: https://oaidalleapiprodscus.blob.core.windows.net/private/org-lczgu2NHpa8bfnAtw6MOpjqX/user-JdMyif9Ake6zXGlyrZRrZKhi/img-wwFzRpq9Nb5vfmGnxUlYVwZ8.png?st=2025-08-04T15%3A53%3A03Z&se=2025-08-04T17%3A53%3A03Z&sp=r&sv=2024-08-04&sr=b&rscd=inline&rsct=image/png&skoid=475fd488-6c59-44a5-9aa9-31c4db451bea&sktid=a48cca56-e6da-484e-a814-9c849652bcb3&skt=2025-08-04T13%3A29%3A06Z&ske=2025-08-05T13%3A29%3A06Z&sks=b&skv=2024-08-04&sig=CmwcFCvGp1dqi%2BZ18cyKA/XtsFPBlgRqfajUbNUsA5s%3D\n"
     ]
    }
   ],
   "source": [
    "images = image_agent.get_images()\n",
    "if images and isinstance(images, list):\n",
    "    for image_response in images:\n",
    "        image_url = image_response.url\n",
    "        print(f\"Generated image URL: {image_url}\")"
   ]
  },
  {
   "cell_type": "code",
   "execution_count": null,
   "id": "f0970dff",
   "metadata": {},
   "outputs": [],
   "source": []
  }
 ],
 "metadata": {
  "kernelspec": {
   "display_name": "venv (3.12.10)",
   "language": "python",
   "name": "python3"
  },
  "language_info": {
   "codemirror_mode": {
    "name": "ipython",
    "version": 3
   },
   "file_extension": ".py",
   "mimetype": "text/x-python",
   "name": "python",
   "nbconvert_exporter": "python",
   "pygments_lexer": "ipython3",
   "version": "3.12.10"
  }
 },
 "nbformat": 4,
 "nbformat_minor": 5
}
