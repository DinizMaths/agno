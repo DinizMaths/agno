{
 "cells": [
  {
   "cell_type": "code",
   "execution_count": 1,
   "id": "85919a09",
   "metadata": {},
   "outputs": [],
   "source": [
    "import json\n",
    "from textwrap import dedent\n",
    "\n",
    "import httpx\n",
    "from agno.agent import Agent\n",
    "from agno.models.openai import OpenAIChat"
   ]
  },
  {
   "cell_type": "code",
   "execution_count": 2,
   "id": "f6af1249",
   "metadata": {},
   "outputs": [],
   "source": [
    "def get_top_hackernews_stories(num_stories: int = 10) -> str:\n",
    "    \"\"\"Use this function to get top stories from Hacker News.\n",
    "\n",
    "    Args:\n",
    "        num_stories (int): Number of stories to return. Defaults to 10.\n",
    "\n",
    "    Returns:\n",
    "        str: JSON string of top stories.\n",
    "    \"\"\"\n",
    "\n",
    "    # Fetch top story IDs\n",
    "    response = httpx.get(\"https://hacker-news.firebaseio.com/v0/topstories.json\")\n",
    "    story_ids = response.json()\n",
    "\n",
    "    # Fetch story details\n",
    "    stories = []\n",
    "    for story_id in story_ids[:num_stories]:\n",
    "        story_response = httpx.get(\n",
    "            f\"https://hacker-news.firebaseio.com/v0/item/{story_id}.json\"\n",
    "        )\n",
    "        story = story_response.json()\n",
    "        if \"text\" in story:\n",
    "            story.pop(\"text\", None)\n",
    "        stories.append(story)\n",
    "    return json.dumps(stories)"
   ]
  },
  {
   "cell_type": "code",
   "execution_count": 5,
   "id": "dade742a",
   "metadata": {},
   "outputs": [],
   "source": [
    "agent = Agent(\n",
    "    model=OpenAIChat(id=\"gpt-4o-mini\"),\n",
    "    instructions=dedent(\"\"\"\\\n",
    "        Você é um repórter do Hacker News com uma paixão por tudo que é tecnologia! 🤖\n",
    "        Pense em si mesmo como uma mistura entre um insider do Vale do Silício e um jornalista de tecnologia.\n",
    "\n",
    "        Seu guia de estilo:\n",
    "        - Comece com uma manchete chamativa usando emojis\n",
    "        - Apresente as histórias do Hacker News com entusiasmo e atitude voltada para a tecnologia\n",
    "        - Mantenha suas respostas concisas, mas informativas\n",
    "        - Use referências da indústria de tecnologia e jargões de startups quando apropriado\n",
    "        - Termine com uma assinatura temática de tecnologia, como 'De volta ao terminal!' ou 'Pushing to production!'\n",
    "\n",
    "        Lembre-se de analisar as histórias do HN de forma completa, mantendo o entusiasmo tecnológico alto!\\\n",
    "    \"\"\"),\n",
    "    tools=[get_top_hackernews_stories],\n",
    "    show_tool_calls=True,\n",
    "    markdown=True,\n",
    ")"
   ]
  },
  {
   "cell_type": "code",
   "execution_count": 7,
   "id": "51629fc4",
   "metadata": {},
   "outputs": [
    {
     "data": {
      "application/vnd.jupyter.widget-view+json": {
       "model_id": "355ef0d6f2b74ae4979c46c4aa312028",
       "version_major": 2,
       "version_minor": 0
      },
      "text/plain": [
       "Output()"
      ]
     },
     "metadata": {},
     "output_type": "display_data"
    },
    {
     "data": {
      "text/html": [
       "<pre style=\"white-space:pre;overflow-x:auto;line-height:normal;font-family:Menlo,'DejaVu Sans Mono',consolas,'Courier New',monospace\"></pre>\n"
      ],
      "text/plain": []
     },
     "metadata": {},
     "output_type": "display_data"
    }
   ],
   "source": [
    "agent.print_response(\n",
    "    \"Resuma as 5 principais histórias do Hacker News, destacando inovações tecnológicas e tendências.\", \n",
    "    stream=True\n",
    ")"
   ]
  },
  {
   "cell_type": "code",
   "execution_count": null,
   "id": "bc4864cc",
   "metadata": {},
   "outputs": [],
   "source": []
  }
 ],
 "metadata": {
  "kernelspec": {
   "display_name": "venv (3.12.10)",
   "language": "python",
   "name": "python3"
  },
  "language_info": {
   "codemirror_mode": {
    "name": "ipython",
    "version": 3
   },
   "file_extension": ".py",
   "mimetype": "text/x-python",
   "name": "python",
   "nbconvert_exporter": "python",
   "pygments_lexer": "ipython3",
   "version": "3.12.10"
  }
 },
 "nbformat": 4,
 "nbformat_minor": 5
}
