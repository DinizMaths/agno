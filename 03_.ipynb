{
 "cells": [
  {
   "cell_type": "code",
   "execution_count": 1,
   "id": "de9d6063",
   "metadata": {},
   "outputs": [],
   "source": [
    "from textwrap import dedent\n",
    "\n",
    "from agno.agent import Agent\n",
    "from agno.embedder.openai import OpenAIEmbedder\n",
    "from agno.knowledge.pdf_url import PDFUrlKnowledgeBase\n",
    "from agno.models.openai import OpenAIChat\n",
    "from agno.tools.duckduckgo import DuckDuckGoTools\n",
    "from agno.vectordb.lancedb import LanceDb, SearchType"
   ]
  },
  {
   "cell_type": "code",
   "execution_count": 2,
   "id": "6e5a3019",
   "metadata": {},
   "outputs": [
    {
     "data": {
      "text/html": [
       "<pre style=\"white-space:pre;overflow-x:auto;line-height:normal;font-family:Menlo,'DejaVu Sans Mono',consolas,'Courier New',monospace\"><span style=\"color: #000080; text-decoration-color: #000080\">INFO</span> Creating table: recipe_knowledge                                                                              \n",
       "</pre>\n"
      ],
      "text/plain": [
       "\u001b[34mINFO\u001b[0m Creating table: recipe_knowledge                                                                              \n"
      ]
     },
     "metadata": {},
     "output_type": "display_data"
    },
    {
     "name": "stderr",
     "output_type": "stream",
     "text": [
      "\u001b[90m[\u001b[0m2025-08-02T15:36:52Z \u001b[33mWARN \u001b[0m lance::dataset::write::insert\u001b[90m]\u001b[0m No existing dataset at /Users/matheus/Developer/agno/tmp/lancedb/recipe_knowledge.lance, it will be created\n"
     ]
    }
   ],
   "source": [
    "agent = Agent(\n",
    "    model=OpenAIChat(id=\"gpt-4o-mini\"),\n",
    "    instructions=dedent(\"\"\"\\\n",
    "        Você é um especialista apaixonado e conhecedor da culinária tailandesa! 🧑‍🍳\n",
    "        Pense em si mesmo como uma combinação de um instrutor de culinária caloroso e encorajador,\n",
    "        um historiador da comida tailandesa e um embaixador cultural.\n",
    "\n",
    "        Siga estas etapas ao responder perguntas sobre culinária tailandesa:\n",
    "        1. Se o usuário perguntar sobre culinária tailandesa, SEMPRE pesquise em sua base de conhecimento por receitas autênticas e informações de culinária\n",
    "        2. Se as informações na base de conhecimento estiverem incompletas OU se o usuário fizer uma pergunta mais adequada para a web, pesquise na web para preencher as lacunas\n",
    "        3. Se você encontrar as informações na base de conhecimento, não há necessidade de pesquisar na web\n",
    "        4. Sempre priorize as informações da base de conhecimento em relação aos resultados da web para garantir autenticidade\n",
    "        5. Se necessário, complemente com pesquisas na web para:\n",
    "            - Adaptações modernas ou substituições de ingredientes\n",
    "            - Contexto cultural e histórico\n",
    "            - Dicas adicionais de culinária e resolução de problemas\n",
    "\n",
    "        Estilo de comunicação:\n",
    "        1. Comece cada resposta com um emoji de culinária relevante\n",
    "        2. Estruture suas respostas de forma clara:\n",
    "            - Breve introdução ou contexto\n",
    "            - Conteúdo principal (receita, explicação ou história)\n",
    "            - Dicas de especialistas ou insights culturais\n",
    "            - Conclusão encorajadora\n",
    "        3. Para receitas, inclua:\n",
    "            - Lista de ingredientes com possíveis substituições\n",
    "            - Passos de cozimento claros e numerados\n",
    "            - Dicas para o sucesso e armadilhas comuns\n",
    "        4. Use uma linguagem amigável e encorajadora\n",
    "\n",
    "        Recursos especiais:\n",
    "        - Explique ingredientes tailandeses desconhecidos e sugira alternativas\n",
    "        - Compartilhe contexto cultural e tradições relevantes\n",
    "        - Forneça dicas para adaptar receitas a diferentes necessidades alimentares\n",
    "        - Inclua sugestões de acompanhamento e guarnições\n",
    "\n",
    "        Lembre-se:\n",
    "        - Sempre verifique a autenticidade da receita com a base de conhecimento\n",
    "        - Indique claramente quando as informações vêm de fontes da web\n",
    "        - Seja encorajador e solidário com cozinheiros caseiros de todos os níveis de habilidade\\\n",
    "    \"\"\"),\n",
    "    knowledge=PDFUrlKnowledgeBase(\n",
    "        urls=[\"https://agno-public.s3.amazonaws.com/recipes/ThaiRecipes.pdf\"],\n",
    "        vector_db=LanceDb(\n",
    "            uri=\"tmp/lancedb\",\n",
    "            table_name=\"recipe_knowledge\",\n",
    "            search_type=SearchType.hybrid,\n",
    "            embedder=OpenAIEmbedder(id=\"text-embedding-3-small\"),\n",
    "        ),\n",
    "    ),\n",
    "    tools=[DuckDuckGoTools()],\n",
    "    show_tool_calls=True,\n",
    "    markdown=True,\n",
    ")"
   ]
  },
  {
   "cell_type": "code",
   "execution_count": 3,
   "id": "33810231",
   "metadata": {},
   "outputs": [
    {
     "data": {
      "text/html": [
       "<pre style=\"white-space:pre;overflow-x:auto;line-height:normal;font-family:Menlo,'DejaVu Sans Mono',consolas,'Courier New',monospace\"><span style=\"color: #000080; text-decoration-color: #000080\">INFO</span> Loading knowledge base                                                                                        \n",
       "</pre>\n"
      ],
      "text/plain": [
       "\u001b[34mINFO\u001b[0m Loading knowledge base                                                                                        \n"
      ]
     },
     "metadata": {},
     "output_type": "display_data"
    },
    {
     "data": {
      "text/html": [
       "<pre style=\"white-space:pre;overflow-x:auto;line-height:normal;font-family:Menlo,'DejaVu Sans Mono',consolas,'Courier New',monospace\"><span style=\"color: #000080; text-decoration-color: #000080\">INFO</span> Reading: <span style=\"color: #0000ff; text-decoration-color: #0000ff; text-decoration: underline\">https://agno-public.s3.amazonaws.com/recipes/ThaiRecipes.pdf</span>                                         \n",
       "</pre>\n"
      ],
      "text/plain": [
       "\u001b[34mINFO\u001b[0m Reading: \u001b[4;94mhttps://agno-public.s3.amazonaws.com/recipes/ThaiRecipes.pdf\u001b[0m                                         \n"
      ]
     },
     "metadata": {},
     "output_type": "display_data"
    },
    {
     "data": {
      "text/html": [
       "<pre style=\"white-space:pre;overflow-x:auto;line-height:normal;font-family:Menlo,'DejaVu Sans Mono',consolas,'Courier New',monospace\"><span style=\"color: #000080; text-decoration-color: #000080\">INFO</span> Added <span style=\"color: #008080; text-decoration-color: #008080; font-weight: bold\">14</span> documents to knowledge base                                                                          \n",
       "</pre>\n"
      ],
      "text/plain": [
       "\u001b[34mINFO\u001b[0m Added \u001b[1;36m14\u001b[0m documents to knowledge base                                                                          \n"
      ]
     },
     "metadata": {},
     "output_type": "display_data"
    }
   ],
   "source": [
    "if agent.knowledge is not None:\n",
    "    agent.knowledge.load()"
   ]
  },
  {
   "cell_type": "code",
   "execution_count": 4,
   "id": "308aa104",
   "metadata": {},
   "outputs": [
    {
     "data": {
      "application/vnd.jupyter.widget-view+json": {
       "model_id": "14f6de943d91495fa91f2eb44cf5c6d6",
       "version_major": 2,
       "version_minor": 0
      },
      "text/plain": [
       "Output()"
      ]
     },
     "metadata": {},
     "output_type": "display_data"
    },
    {
     "data": {
      "text/html": [
       "<pre style=\"white-space:pre;overflow-x:auto;line-height:normal;font-family:Menlo,'DejaVu Sans Mono',consolas,'Courier New',monospace\"><span style=\"color: #000080; text-decoration-color: #000080\">INFO</span> Found <span style=\"color: #008080; text-decoration-color: #008080; font-weight: bold\">5</span> documents                                                                                             \n",
       "</pre>\n"
      ],
      "text/plain": [
       "\u001b[34mINFO\u001b[0m Found \u001b[1;36m5\u001b[0m documents                                                                                             \n"
      ]
     },
     "metadata": {},
     "output_type": "display_data"
    },
    {
     "data": {
      "text/html": [
       "<pre style=\"white-space:pre;overflow-x:auto;line-height:normal;font-family:Menlo,'DejaVu Sans Mono',consolas,'Courier New',monospace\"></pre>\n"
      ],
      "text/plain": []
     },
     "metadata": {},
     "output_type": "display_data"
    }
   ],
   "source": [
    "agent.print_response(\n",
    "    \"Como faço sopa de galanga com frango no leite de coco\",\n",
    "    stream=True\n",
    ")\n"
   ]
  },
  {
   "cell_type": "code",
   "execution_count": 5,
   "id": "c4bfe431",
   "metadata": {},
   "outputs": [
    {
     "data": {
      "application/vnd.jupyter.widget-view+json": {
       "model_id": "843415d236b2445ba66fe7be5a36183f",
       "version_major": 2,
       "version_minor": 0
      },
      "text/plain": [
       "Output()"
      ]
     },
     "metadata": {},
     "output_type": "display_data"
    },
    {
     "data": {
      "text/html": [
       "<pre style=\"white-space:pre;overflow-x:auto;line-height:normal;font-family:Menlo,'DejaVu Sans Mono',consolas,'Courier New',monospace\"><span style=\"color: #000080; text-decoration-color: #000080\">INFO</span> Found <span style=\"color: #008080; text-decoration-color: #008080; font-weight: bold\">5</span> documents                                                                                             \n",
       "</pre>\n"
      ],
      "text/plain": [
       "\u001b[34mINFO\u001b[0m Found \u001b[1;36m5\u001b[0m documents                                                                                             \n"
      ]
     },
     "metadata": {},
     "output_type": "display_data"
    },
    {
     "data": {
      "text/html": [
       "<pre style=\"white-space:pre;overflow-x:auto;line-height:normal;font-family:Menlo,'DejaVu Sans Mono',consolas,'Courier New',monospace\"></pre>\n"
      ],
      "text/plain": []
     },
     "metadata": {},
     "output_type": "display_data"
    }
   ],
   "source": [
    "agent.print_response(\n",
    "    \"Qual é a história do curry tailandês?\",\n",
    "    stream=True\n",
    ")"
   ]
  },
  {
   "cell_type": "code",
   "execution_count": null,
   "id": "018d46e6",
   "metadata": {},
   "outputs": [],
   "source": []
  }
 ],
 "metadata": {
  "kernelspec": {
   "display_name": "venv (3.12.10)",
   "language": "python",
   "name": "python3"
  },
  "language_info": {
   "codemirror_mode": {
    "name": "ipython",
    "version": 3
   },
   "file_extension": ".py",
   "mimetype": "text/x-python",
   "name": "python",
   "nbconvert_exporter": "python",
   "pygments_lexer": "ipython3",
   "version": "3.12.10"
  }
 },
 "nbformat": 4,
 "nbformat_minor": 5
}
