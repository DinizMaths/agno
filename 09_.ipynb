{
 "cells": [
  {
   "cell_type": "code",
   "execution_count": 3,
   "id": "b98026be",
   "metadata": {},
   "outputs": [],
   "source": [
    "import json\n",
    "from textwrap import dedent\n",
    "from typing import Dict, Iterator, Optional\n",
    "\n",
    "from agno.agent import Agent\n",
    "from agno.models.openai import OpenAIChat\n",
    "from agno.run.workflow import WorkflowCompletedEvent\n",
    "from agno.storage.sqlite import SqliteStorage\n",
    "from agno.tools.duckduckgo import DuckDuckGoTools\n",
    "from agno.tools.newspaper4k import Newspaper4kTools\n",
    "from agno.utils.log import logger\n",
    "from agno.utils.pprint import pprint_run_response\n",
    "from agno.workflow import RunResponse, Workflow\n",
    "from pydantic import BaseModel, Field"
   ]
  },
  {
   "cell_type": "code",
   "execution_count": 4,
   "id": "ae24bbf4",
   "metadata": {},
   "outputs": [],
   "source": [
    "class Article(BaseModel):\n",
    "    title: str = Field(..., description=\"Title of the article.\")\n",
    "    url: str = Field(..., description=\"Link to the article.\")\n",
    "    summary: Optional[str] = Field(..., description=\"Summary of the article if available.\")\n",
    "\n",
    "class SearchResults(BaseModel):\n",
    "    articles: list[Article]\n",
    "\n",
    "class ScrapedArticle(BaseModel):\n",
    "    title: str = Field(..., description=\"Title of the article.\")\n",
    "    url: str = Field(..., description=\"Link to the article.\")\n",
    "    summary: Optional[str] = Field(..., description=\"Summary of the article if available.\")\n",
    "    content: Optional[str] = Field(..., description=\"Content of the in markdown format if available. Return None if the content is not available or does not make sense.\")"
   ]
  },
  {
   "cell_type": "code",
   "execution_count": 8,
   "id": "b81c5c5b",
   "metadata": {},
   "outputs": [],
   "source": [
    "class ResearchReportGenerator(Workflow):\n",
    "    description: str = dedent(\"\"\"\\\n",
    "    Generate comprehensive research reports that combine academic rigor\n",
    "    with engaging storytelling. This workflow orchestrates multiple AI agents to search, analyze,\n",
    "    and synthesize information from diverse sources into well-structured reports.\n",
    "    \"\"\")\n",
    "\n",
    "    web_searcher: Agent = Agent(\n",
    "        model=OpenAIChat(id=\"gpt-4o-mini\"),\n",
    "        tools=[DuckDuckGoTools()],\n",
    "        description=dedent(\"\"\"\\\n",
    "        You are ResearchBot-X, an expert at discovering and evaluating academic and scientific sources.\\\n",
    "        \"\"\"),\n",
    "        instructions=dedent(\"\"\"\\\n",
    "        You're a meticulous research assistant with expertise in source evaluation! 🔍\n",
    "        Search for 10-15 sources and identify the 5-7 most authoritative and relevant ones.\n",
    "        Prioritize:\n",
    "        - Peer-reviewed articles and academic publications\n",
    "        - Recent developments from reputable institutions\n",
    "        - Authoritative news sources and expert commentary\n",
    "        - Diverse perspectives from recognized experts\n",
    "        Avoid opinion pieces and non-authoritative sources.\\\n",
    "        \"\"\"),\n",
    "        response_model=SearchResults,\n",
    "    )\n",
    "\n",
    "    article_scraper: Agent = Agent(\n",
    "        model=OpenAIChat(id=\"gpt-4o-mini\"),\n",
    "        tools=[Newspaper4kTools()],\n",
    "        description=dedent(\"\"\"\\\n",
    "        You are ContentBot-X, an expert at extracting and structuring academic content.\\\n",
    "        \"\"\"),\n",
    "        instructions=dedent(\"\"\"\\\n",
    "        You're a precise content curator with attention to academic detail! 📚\n",
    "        When processing content:\n",
    "           - Extract content from the article\n",
    "           - Preserve academic citations and references\n",
    "           - Maintain technical accuracy in terminology\n",
    "           - Structure content logically with clear sections\n",
    "           - Extract key findings and methodology details\n",
    "           - Handle paywalled content gracefully\n",
    "        Format everything in clean markdown for optimal readability.\\\n",
    "        \"\"\"),\n",
    "        response_model=ScrapedArticle,\n",
    "    )\n",
    "\n",
    "    writer: Agent = Agent(\n",
    "        model=OpenAIChat(id=\"gpt-4o\"),\n",
    "        description=dedent(\"\"\"\\\n",
    "        You are Professor X-2000, a distinguished AI research scientist combining academic rigor with engaging narrative style.\\\n",
    "        \"\"\"),\n",
    "        instructions=dedent(\"\"\"\\\n",
    "        Channel the expertise of a world-class academic researcher!\n",
    "        🎯 Analysis Phase:\n",
    "          - Evaluate source credibility and relevance\n",
    "          - Cross-reference findings across sources\n",
    "          - Identify key themes and breakthroughs\n",
    "        💡 Synthesis Phase:\n",
    "          - Develop a coherent narrative framework\n",
    "          - Connect disparate findings\n",
    "          - Highlight contradictions or gaps\n",
    "        ✍️ Writing Phase:\n",
    "          - Begin with an engaging executive summary, hook the reader\n",
    "          - Present complex ideas clearly\n",
    "          - Support all claims with citations\n",
    "          - Balance depth with accessibility\n",
    "          - Maintain academic tone while ensuring readability\n",
    "          - End with implications and future directions\\\n",
    "        \"\"\"),\n",
    "        expected_output=dedent(\"\"\"\\\n",
    "        # {Compelling Academic Title}\n",
    "\n",
    "        ## Executive Summary\n",
    "        {Concise overview of key findings and significance}\n",
    "\n",
    "        ## Introduction\n",
    "        {Research context and background}\n",
    "        {Current state of the field}\n",
    "\n",
    "        ## Methodology\n",
    "        {Search and analysis approach}\n",
    "        {Source evaluation criteria}\n",
    "\n",
    "        ## Key Findings\n",
    "        {Major discoveries and developments}\n",
    "        {Supporting evidence and analysis}\n",
    "        {Contrasting viewpoints}\n",
    "\n",
    "        ## Analysis\n",
    "        {Critical evaluation of findings}\n",
    "        {Integration of multiple perspectives}\n",
    "        {Identification of patterns and trends}\n",
    "\n",
    "        ## Implications\n",
    "        {Academic and practical significance}\n",
    "        {Future research directions}\n",
    "        {Potential applications}\n",
    "\n",
    "        ## Key Takeaways\n",
    "        - {Critical finding 1}\n",
    "        - {Critical finding 2}\n",
    "        - {Critical finding 3}\n",
    "\n",
    "        ## References\n",
    "        {Properly formatted academic citations}\n",
    "\n",
    "        ---\n",
    "        Report generated by Professor X-2000\n",
    "        Advanced Research Division\n",
    "        Date: {current_date}\\\n",
    "        \"\"\"),\n",
    "        markdown=True,\n",
    "    )\n",
    "\n",
    "    def run(\n",
    "        self,\n",
    "        topic: str,\n",
    "        use_search_cache: bool = True,\n",
    "        use_scrape_cache: bool = True,\n",
    "        use_cached_report: bool = True,\n",
    "    ) -> Iterator[RunResponse]:\n",
    "        \"\"\"\n",
    "        Generate a comprehensive news report on a given topic.\n",
    "\n",
    "        This function orchestrates a workflow to search for articles, scrape their content,\n",
    "        and generate a final report. It utilizes caching mechanisms to optimize performance.\n",
    "\n",
    "        Args:\n",
    "            topic (str): The topic for which to generate the news report.\n",
    "            use_search_cache (bool, optional): Whether to use cached search results. Defaults to True.\n",
    "            use_scrape_cache (bool, optional): Whether to use cached scraped articles. Defaults to True.\n",
    "            use_cached_report (bool, optional): Whether to return a previously generated report on the same topic. Defaults to False.\n",
    "\n",
    "        Returns:\n",
    "            Iterator[RunResponse]: An stream of objects containing the generated report or status information.\n",
    "\n",
    "        Steps:\n",
    "        1. Check for a cached report if use_cached_report is True.\n",
    "        2. Search the web for articles on the topic:\n",
    "            - Use cached search results if available and use_search_cache is True.\n",
    "            - Otherwise, perform a new web search.\n",
    "        3. Scrape the content of each article:\n",
    "            - Use cached scraped articles if available and use_scrape_cache is True.\n",
    "            - Scrape new articles that aren't in the cache.\n",
    "        4. Generate the final report using the scraped article contents.\n",
    "\n",
    "        The function utilizes the `session_state` to store and retrieve cached data.\n",
    "        \"\"\"\n",
    "        logger.info(f\"Generating a report on: {topic}\")\n",
    "\n",
    "        # Use the cached report if use_cached_report is True\n",
    "        if use_cached_report:\n",
    "            cached_report = self.get_cached_report(topic)\n",
    "            if cached_report:\n",
    "                yield WorkflowCompletedEvent(content=cached_report)\n",
    "                return\n",
    "\n",
    "        # Search the web for articles on the topic\n",
    "        search_results: Optional[SearchResults] = self.get_search_results(\n",
    "            topic, use_search_cache\n",
    "        )\n",
    "        # If no search_results are found for the topic, end the workflow\n",
    "        if search_results is None or len(search_results.articles) == 0:\n",
    "            yield WorkflowCompletedEvent(\n",
    "                content=f\"Sorry, could not find any articles on the topic: {topic}\",\n",
    "            )\n",
    "            return\n",
    "\n",
    "        # Scrape the search results\n",
    "        scraped_articles: Dict[str, ScrapedArticle] = self.scrape_articles(\n",
    "            search_results, use_scrape_cache\n",
    "        )\n",
    "\n",
    "        # Write a research report\n",
    "        yield from self.write_research_report(topic, scraped_articles)\n",
    "\n",
    "    def get_cached_report(self, topic: str) -> Optional[str]:\n",
    "        logger.info(\"Checking if cached report exists\")\n",
    "        return self.session_state.get(\"reports\", {}).get(topic)\n",
    "\n",
    "    def add_report_to_cache(self, topic: str, report: str):\n",
    "        logger.info(f\"Saving report for topic: {topic}\")\n",
    "        self.session_state.setdefault(\"reports\", {})\n",
    "        self.session_state[\"reports\"][topic] = report\n",
    "        # Save the report to the storage\n",
    "        self.write_to_storage()\n",
    "\n",
    "    def get_cached_search_results(self, topic: str) -> Optional[SearchResults]:\n",
    "        logger.info(\"Checking if cached search results exist\")\n",
    "        return self.session_state.get(\"search_results\", {}).get(topic)\n",
    "\n",
    "    def add_search_results_to_cache(self, topic: str, search_results: SearchResults):\n",
    "        logger.info(f\"Saving search results for topic: {topic}\")\n",
    "        self.session_state.setdefault(\"search_results\", {})\n",
    "        self.session_state[\"search_results\"][topic] = search_results.model_dump()\n",
    "        # Save the search results to the storage\n",
    "        self.write_to_storage()\n",
    "\n",
    "    def get_cached_scraped_articles(\n",
    "        self, topic: str\n",
    "    ) -> Optional[Dict[str, ScrapedArticle]]:\n",
    "        logger.info(\"Checking if cached scraped articles exist\")\n",
    "        return self.session_state.get(\"scraped_articles\", {}).get(topic)\n",
    "\n",
    "    def add_scraped_articles_to_cache(\n",
    "        self, topic: str, scraped_articles: Dict[str, ScrapedArticle]\n",
    "    ):\n",
    "        logger.info(f\"Saving scraped articles for topic: {topic}\")\n",
    "        self.session_state.setdefault(\"scraped_articles\", {})\n",
    "        self.session_state[\"scraped_articles\"][topic] = scraped_articles\n",
    "        # Save the scraped articles to the storage\n",
    "        self.write_to_storage()\n",
    "\n",
    "    def get_search_results(\n",
    "        self, topic: str, use_search_cache: bool, num_attempts: int = 3\n",
    "    ) -> Optional[SearchResults]:\n",
    "        # Get cached search_results from the session state if use_search_cache is True\n",
    "        if use_search_cache:\n",
    "            try:\n",
    "                search_results_from_cache = self.get_cached_search_results(topic)\n",
    "                if search_results_from_cache is not None:\n",
    "                    search_results = SearchResults.model_validate(\n",
    "                        search_results_from_cache\n",
    "                    )\n",
    "                    logger.info(\n",
    "                        f\"Found {len(search_results.articles)} articles in cache.\"\n",
    "                    )\n",
    "                    return search_results\n",
    "            except Exception as e:\n",
    "                logger.warning(f\"Could not read search results from cache: {e}\")\n",
    "\n",
    "        # If there are no cached search_results, use the web_searcher to find the latest articles\n",
    "        for attempt in range(num_attempts):\n",
    "            try:\n",
    "                searcher_response: RunResponse = self.web_searcher.run(topic)\n",
    "                if (\n",
    "                    searcher_response is not None\n",
    "                    and searcher_response.content is not None\n",
    "                    and isinstance(searcher_response.content, SearchResults)\n",
    "                ):\n",
    "                    article_count = len(searcher_response.content.articles)\n",
    "                    logger.info(\n",
    "                        f\"Found {article_count} articles on attempt {attempt + 1}\"\n",
    "                    )\n",
    "                    # Cache the search results\n",
    "                    self.add_search_results_to_cache(topic, searcher_response.content)\n",
    "                    return searcher_response.content\n",
    "                else:\n",
    "                    logger.warning(\n",
    "                        f\"Attempt {attempt + 1}/{num_attempts} failed: Invalid response type\"\n",
    "                    )\n",
    "            except Exception as e:\n",
    "                logger.warning(f\"Attempt {attempt + 1}/{num_attempts} failed: {str(e)}\")\n",
    "\n",
    "        logger.error(f\"Failed to get search results after {num_attempts} attempts\")\n",
    "        return None\n",
    "\n",
    "    def scrape_articles(\n",
    "        self, search_results: SearchResults, use_scrape_cache: bool\n",
    "    ) -> Dict[str, ScrapedArticle]:\n",
    "        scraped_articles: Dict[str, ScrapedArticle] = {}\n",
    "\n",
    "        # Get cached scraped_articles from the session state if use_scrape_cache is True\n",
    "        if use_scrape_cache:\n",
    "            try:\n",
    "                scraped_articles_from_cache = self.get_cached_scraped_articles(topic)\n",
    "                if scraped_articles_from_cache is not None:\n",
    "                    scraped_articles = scraped_articles_from_cache\n",
    "                    logger.info(\n",
    "                        f\"Found {len(scraped_articles)} scraped articles in cache.\"\n",
    "                    )\n",
    "                    return scraped_articles\n",
    "            except Exception as e:\n",
    "                logger.warning(f\"Could not read scraped articles from cache: {e}\")\n",
    "\n",
    "        # Scrape the articles that are not in the cache\n",
    "        for article in search_results.articles:\n",
    "            if article.url in scraped_articles:\n",
    "                logger.info(f\"Found scraped article in cache: {article.url}\")\n",
    "                continue\n",
    "\n",
    "            article_scraper_response: RunResponse = self.article_scraper.run(\n",
    "                article.url\n",
    "            )\n",
    "            if (\n",
    "                article_scraper_response is not None\n",
    "                and article_scraper_response.content is not None\n",
    "                and isinstance(article_scraper_response.content, ScrapedArticle)\n",
    "            ):\n",
    "                scraped_articles[article_scraper_response.content.url] = (\n",
    "                    article_scraper_response.content\n",
    "                )\n",
    "                logger.info(f\"Scraped article: {article_scraper_response.content.url}\")\n",
    "\n",
    "        # Save the scraped articles in the session state\n",
    "        self.add_scraped_articles_to_cache(topic, scraped_articles)\n",
    "        return scraped_articles\n",
    "\n",
    "    def write_research_report(\n",
    "        self, topic: str, scraped_articles: Dict[str, ScrapedArticle]\n",
    "    ) -> Iterator[RunResponse]:\n",
    "        logger.info(\"Writing research report\")\n",
    "        # Prepare the input for the writer\n",
    "        writer_input = {\n",
    "            \"topic\": topic,\n",
    "            \"articles\": [v.model_dump() for v in scraped_articles.values()],\n",
    "        }\n",
    "        # Run the writer and yield the response\n",
    "        yield from self.writer.run(json.dumps(writer_input, indent=4), stream=True)\n",
    "        # Save the research report in the cache\n",
    "        self.add_report_to_cache(topic, self.writer.run_response.content)\n"
   ]
  },
  {
   "cell_type": "code",
   "execution_count": 9,
   "id": "0727a106",
   "metadata": {},
   "outputs": [
    {
     "name": "stdout",
     "output_type": "stream",
     "text": [
      "\n",
      "📚 Example Research Topics:\n",
      "1. quantum computing breakthroughs 2024\n",
      "2. artificial consciousness research\n",
      "3. fusion energy developments\n",
      "4. space tourism environmental impact\n",
      "5. longevity research advances\n",
      "\n"
     ]
    },
    {
     "data": {
      "text/html": [
       "<pre style=\"white-space:pre;overflow-x:auto;line-height:normal;font-family:Menlo,'DejaVu Sans Mono',consolas,'Courier New',monospace\"><span style=\"font-weight: bold\">Enter a research topic</span>\n",
       "✨ <span style=\"color: #008080; text-decoration-color: #008080; font-weight: bold\">(quantum computing breakthroughs 2024)</span>: </pre>\n"
      ],
      "text/plain": [
       "\u001b[1mEnter a research topic\u001b[0m\n",
       "✨ \u001b[1;36m(quantum computing breakthroughs 2024)\u001b[0m: "
      ]
     },
     "metadata": {},
     "output_type": "display_data"
    },
    {
     "data": {
      "text/html": [
       "<pre style=\"white-space:pre;overflow-x:auto;line-height:normal;font-family:Menlo,'DejaVu Sans Mono',consolas,'Courier New',monospace\"><span style=\"color: #000080; text-decoration-color: #000080\">INFO</span> Generating a report on: Multiagents LLM                                                                       \n",
       "</pre>\n"
      ],
      "text/plain": [
       "\u001b[34mINFO\u001b[0m Generating a report on: Multiagents LLM                                                                       \n"
      ]
     },
     "metadata": {},
     "output_type": "display_data"
    },
    {
     "data": {
      "text/html": [
       "<pre style=\"white-space:pre;overflow-x:auto;line-height:normal;font-family:Menlo,'DejaVu Sans Mono',consolas,'Courier New',monospace\"><span style=\"color: #000080; text-decoration-color: #000080\">INFO</span> Checking if cached report exists                                                                              \n",
       "</pre>\n"
      ],
      "text/plain": [
       "\u001b[34mINFO\u001b[0m Checking if cached report exists                                                                              \n"
      ]
     },
     "metadata": {},
     "output_type": "display_data"
    },
    {
     "data": {
      "text/html": [
       "<pre style=\"white-space:pre;overflow-x:auto;line-height:normal;font-family:Menlo,'DejaVu Sans Mono',consolas,'Courier New',monospace\"><span style=\"color: #000080; text-decoration-color: #000080\">INFO</span> Checking if cached search results exist                                                                       \n",
       "</pre>\n"
      ],
      "text/plain": [
       "\u001b[34mINFO\u001b[0m Checking if cached search results exist                                                                       \n"
      ]
     },
     "metadata": {},
     "output_type": "display_data"
    },
    {
     "data": {
      "application/vnd.jupyter.widget-view+json": {
       "model_id": "5cf3d46e443e453db94113c31712051d",
       "version_major": 2,
       "version_minor": 0
      },
      "text/plain": [
       "Output()"
      ]
     },
     "metadata": {},
     "output_type": "display_data"
    },
    {
     "data": {
      "text/html": [
       "<pre style=\"white-space:pre;overflow-x:auto;line-height:normal;font-family:Menlo,'DejaVu Sans Mono',consolas,'Courier New',monospace\">/Users/matheus/Developer/agno/venv/lib/python3.12/site-packages/agno/tools/duckduckgo.py:71: RuntimeWarning: This \n",
       "package (`duckduckgo_search`) has been renamed to `ddgs`! Use `pip install ddgs` instead.\n",
       "  ddgs = DDGS(\n",
       "</pre>\n"
      ],
      "text/plain": [
       "/Users/matheus/Developer/agno/venv/lib/python3.12/site-packages/agno/tools/duckduckgo.py:71: RuntimeWarning: This \n",
       "package (`duckduckgo_search`) has been renamed to `ddgs`! Use `pip install ddgs` instead.\n",
       "  ddgs = DDGS(\n"
      ]
     },
     "metadata": {},
     "output_type": "display_data"
    },
    {
     "data": {
      "text/html": [
       "<pre style=\"white-space:pre;overflow-x:auto;line-height:normal;font-family:Menlo,'DejaVu Sans Mono',consolas,'Courier New',monospace\">/Users/matheus/Developer/agno/venv/lib/python3.12/site-packages/agno/tools/duckduckgo.py:90: RuntimeWarning: This \n",
       "package (`duckduckgo_search`) has been renamed to `ddgs`! Use `pip install ddgs` instead.\n",
       "  ddgs = DDGS(\n",
       "</pre>\n"
      ],
      "text/plain": [
       "/Users/matheus/Developer/agno/venv/lib/python3.12/site-packages/agno/tools/duckduckgo.py:90: RuntimeWarning: This \n",
       "package (`duckduckgo_search`) has been renamed to `ddgs`! Use `pip install ddgs` instead.\n",
       "  ddgs = DDGS(\n"
      ]
     },
     "metadata": {},
     "output_type": "display_data"
    },
    {
     "data": {
      "text/html": [
       "<pre style=\"white-space:pre;overflow-x:auto;line-height:normal;font-family:Menlo,'DejaVu Sans Mono',consolas,'Courier New',monospace\"><span style=\"color: #000080; text-decoration-color: #000080\">INFO</span> Found <span style=\"color: #008080; text-decoration-color: #008080; font-weight: bold\">7</span> articles on attempt <span style=\"color: #008080; text-decoration-color: #008080; font-weight: bold\">1</span>                                                                                 \n",
       "</pre>\n"
      ],
      "text/plain": [
       "\u001b[34mINFO\u001b[0m Found \u001b[1;36m7\u001b[0m articles on attempt \u001b[1;36m1\u001b[0m                                                                                 \n"
      ]
     },
     "metadata": {},
     "output_type": "display_data"
    },
    {
     "data": {
      "text/html": [
       "<pre style=\"white-space:pre;overflow-x:auto;line-height:normal;font-family:Menlo,'DejaVu Sans Mono',consolas,'Courier New',monospace\"><span style=\"color: #000080; text-decoration-color: #000080\">INFO</span> Saving search results for topic: Multiagents LLM                                                              \n",
       "</pre>\n"
      ],
      "text/plain": [
       "\u001b[34mINFO\u001b[0m Saving search results for topic: Multiagents LLM                                                              \n"
      ]
     },
     "metadata": {},
     "output_type": "display_data"
    },
    {
     "data": {
      "text/html": [
       "<pre style=\"white-space:pre;overflow-x:auto;line-height:normal;font-family:Menlo,'DejaVu Sans Mono',consolas,'Courier New',monospace\"><span style=\"color: #808000; text-decoration-color: #808000\">WARNING </span> Attempt <span style=\"color: #008080; text-decoration-color: #008080; font-weight: bold\">1</span>/<span style=\"color: #008080; text-decoration-color: #008080; font-weight: bold\">3</span> failed: <span style=\"color: #008000; text-decoration-color: #008000\">'generate-report-on-multiagents-llm'</span>                                                  \n",
       "</pre>\n"
      ],
      "text/plain": [
       "\u001b[33mWARNING \u001b[0m Attempt \u001b[1;36m1\u001b[0m/\u001b[1;36m3\u001b[0m failed: \u001b[32m'generate-report-on-multiagents-llm'\u001b[0m                                                  \n"
      ]
     },
     "metadata": {},
     "output_type": "display_data"
    },
    {
     "data": {
      "text/html": [
       "<pre style=\"white-space:pre;overflow-x:auto;line-height:normal;font-family:Menlo,'DejaVu Sans Mono',consolas,'Courier New',monospace\">/Users/matheus/Developer/agno/venv/lib/python3.12/site-packages/agno/tools/duckduckgo.py:71: RuntimeWarning: This \n",
       "package (`duckduckgo_search`) has been renamed to `ddgs`! Use `pip install ddgs` instead.\n",
       "  ddgs = DDGS(\n",
       "</pre>\n"
      ],
      "text/plain": [
       "/Users/matheus/Developer/agno/venv/lib/python3.12/site-packages/agno/tools/duckduckgo.py:71: RuntimeWarning: This \n",
       "package (`duckduckgo_search`) has been renamed to `ddgs`! Use `pip install ddgs` instead.\n",
       "  ddgs = DDGS(\n"
      ]
     },
     "metadata": {},
     "output_type": "display_data"
    },
    {
     "data": {
      "text/html": [
       "<pre style=\"white-space:pre;overflow-x:auto;line-height:normal;font-family:Menlo,'DejaVu Sans Mono',consolas,'Courier New',monospace\">/Users/matheus/Developer/agno/venv/lib/python3.12/site-packages/agno/tools/duckduckgo.py:90: RuntimeWarning: This \n",
       "package (`duckduckgo_search`) has been renamed to `ddgs`! Use `pip install ddgs` instead.\n",
       "  ddgs = DDGS(\n",
       "</pre>\n"
      ],
      "text/plain": [
       "/Users/matheus/Developer/agno/venv/lib/python3.12/site-packages/agno/tools/duckduckgo.py:90: RuntimeWarning: This \n",
       "package (`duckduckgo_search`) has been renamed to `ddgs`! Use `pip install ddgs` instead.\n",
       "  ddgs = DDGS(\n"
      ]
     },
     "metadata": {},
     "output_type": "display_data"
    },
    {
     "data": {
      "text/html": [
       "<pre style=\"white-space:pre;overflow-x:auto;line-height:normal;font-family:Menlo,'DejaVu Sans Mono',consolas,'Courier New',monospace\"><span style=\"color: #000080; text-decoration-color: #000080\">INFO</span> Found <span style=\"color: #008080; text-decoration-color: #008080; font-weight: bold\">5</span> articles on attempt <span style=\"color: #008080; text-decoration-color: #008080; font-weight: bold\">2</span>                                                                                 \n",
       "</pre>\n"
      ],
      "text/plain": [
       "\u001b[34mINFO\u001b[0m Found \u001b[1;36m5\u001b[0m articles on attempt \u001b[1;36m2\u001b[0m                                                                                 \n"
      ]
     },
     "metadata": {},
     "output_type": "display_data"
    },
    {
     "data": {
      "text/html": [
       "<pre style=\"white-space:pre;overflow-x:auto;line-height:normal;font-family:Menlo,'DejaVu Sans Mono',consolas,'Courier New',monospace\"><span style=\"color: #000080; text-decoration-color: #000080\">INFO</span> Saving search results for topic: Multiagents LLM                                                              \n",
       "</pre>\n"
      ],
      "text/plain": [
       "\u001b[34mINFO\u001b[0m Saving search results for topic: Multiagents LLM                                                              \n"
      ]
     },
     "metadata": {},
     "output_type": "display_data"
    },
    {
     "data": {
      "text/html": [
       "<pre style=\"white-space:pre;overflow-x:auto;line-height:normal;font-family:Menlo,'DejaVu Sans Mono',consolas,'Courier New',monospace\"><span style=\"color: #808000; text-decoration-color: #808000\">WARNING </span> Attempt <span style=\"color: #008080; text-decoration-color: #008080; font-weight: bold\">2</span>/<span style=\"color: #008080; text-decoration-color: #008080; font-weight: bold\">3</span> failed: <span style=\"color: #008000; text-decoration-color: #008000\">'generate-report-on-multiagents-llm'</span>                                                  \n",
       "</pre>\n"
      ],
      "text/plain": [
       "\u001b[33mWARNING \u001b[0m Attempt \u001b[1;36m2\u001b[0m/\u001b[1;36m3\u001b[0m failed: \u001b[32m'generate-report-on-multiagents-llm'\u001b[0m                                                  \n"
      ]
     },
     "metadata": {},
     "output_type": "display_data"
    },
    {
     "data": {
      "text/html": [
       "<pre style=\"white-space:pre;overflow-x:auto;line-height:normal;font-family:Menlo,'DejaVu Sans Mono',consolas,'Courier New',monospace\">/Users/matheus/Developer/agno/venv/lib/python3.12/site-packages/agno/tools/duckduckgo.py:71: RuntimeWarning: This \n",
       "package (`duckduckgo_search`) has been renamed to `ddgs`! Use `pip install ddgs` instead.\n",
       "  ddgs = DDGS(\n",
       "</pre>\n"
      ],
      "text/plain": [
       "/Users/matheus/Developer/agno/venv/lib/python3.12/site-packages/agno/tools/duckduckgo.py:71: RuntimeWarning: This \n",
       "package (`duckduckgo_search`) has been renamed to `ddgs`! Use `pip install ddgs` instead.\n",
       "  ddgs = DDGS(\n"
      ]
     },
     "metadata": {},
     "output_type": "display_data"
    },
    {
     "data": {
      "text/html": [
       "<pre style=\"white-space:pre;overflow-x:auto;line-height:normal;font-family:Menlo,'DejaVu Sans Mono',consolas,'Courier New',monospace\">/Users/matheus/Developer/agno/venv/lib/python3.12/site-packages/agno/tools/duckduckgo.py:90: RuntimeWarning: This \n",
       "package (`duckduckgo_search`) has been renamed to `ddgs`! Use `pip install ddgs` instead.\n",
       "  ddgs = DDGS(\n",
       "</pre>\n"
      ],
      "text/plain": [
       "/Users/matheus/Developer/agno/venv/lib/python3.12/site-packages/agno/tools/duckduckgo.py:90: RuntimeWarning: This \n",
       "package (`duckduckgo_search`) has been renamed to `ddgs`! Use `pip install ddgs` instead.\n",
       "  ddgs = DDGS(\n"
      ]
     },
     "metadata": {},
     "output_type": "display_data"
    },
    {
     "data": {
      "text/html": [
       "<pre style=\"white-space:pre;overflow-x:auto;line-height:normal;font-family:Menlo,'DejaVu Sans Mono',consolas,'Courier New',monospace\"><span style=\"color: #000080; text-decoration-color: #000080\">INFO</span> Found <span style=\"color: #008080; text-decoration-color: #008080; font-weight: bold\">7</span> articles on attempt <span style=\"color: #008080; text-decoration-color: #008080; font-weight: bold\">3</span>                                                                                 \n",
       "</pre>\n"
      ],
      "text/plain": [
       "\u001b[34mINFO\u001b[0m Found \u001b[1;36m7\u001b[0m articles on attempt \u001b[1;36m3\u001b[0m                                                                                 \n"
      ]
     },
     "metadata": {},
     "output_type": "display_data"
    },
    {
     "data": {
      "text/html": [
       "<pre style=\"white-space:pre;overflow-x:auto;line-height:normal;font-family:Menlo,'DejaVu Sans Mono',consolas,'Courier New',monospace\"><span style=\"color: #000080; text-decoration-color: #000080\">INFO</span> Saving search results for topic: Multiagents LLM                                                              \n",
       "</pre>\n"
      ],
      "text/plain": [
       "\u001b[34mINFO\u001b[0m Saving search results for topic: Multiagents LLM                                                              \n"
      ]
     },
     "metadata": {},
     "output_type": "display_data"
    },
    {
     "data": {
      "text/html": [
       "<pre style=\"white-space:pre;overflow-x:auto;line-height:normal;font-family:Menlo,'DejaVu Sans Mono',consolas,'Courier New',monospace\"><span style=\"color: #808000; text-decoration-color: #808000\">WARNING </span> Attempt <span style=\"color: #008080; text-decoration-color: #008080; font-weight: bold\">3</span>/<span style=\"color: #008080; text-decoration-color: #008080; font-weight: bold\">3</span> failed: <span style=\"color: #008000; text-decoration-color: #008000\">'generate-report-on-multiagents-llm'</span>                                                  \n",
       "</pre>\n"
      ],
      "text/plain": [
       "\u001b[33mWARNING \u001b[0m Attempt \u001b[1;36m3\u001b[0m/\u001b[1;36m3\u001b[0m failed: \u001b[32m'generate-report-on-multiagents-llm'\u001b[0m                                                  \n"
      ]
     },
     "metadata": {},
     "output_type": "display_data"
    },
    {
     "data": {
      "text/html": [
       "<pre style=\"white-space:pre;overflow-x:auto;line-height:normal;font-family:Menlo,'DejaVu Sans Mono',consolas,'Courier New',monospace\"><span style=\"color: #800000; text-decoration-color: #800000; font-weight: bold\">ERROR   </span> Failed to get search results after <span style=\"color: #008080; text-decoration-color: #008080; font-weight: bold\">3</span> attempts                                                             \n",
       "</pre>\n"
      ],
      "text/plain": [
       "\u001b[1;31mERROR   \u001b[0m Failed to get search results after \u001b[1;36m3\u001b[0m attempts                                                             \n"
      ]
     },
     "metadata": {},
     "output_type": "display_data"
    },
    {
     "data": {
      "text/html": [
       "<pre style=\"white-space:pre;overflow-x:auto;line-height:normal;font-family:Menlo,'DejaVu Sans Mono',consolas,'Courier New',monospace\"></pre>\n"
      ],
      "text/plain": []
     },
     "metadata": {},
     "output_type": "display_data"
    },
    {
     "ename": "TypeError",
     "evalue": "WorkflowCompletedEvent.__init__() missing 1 required positional argument: 'run_id'",
     "output_type": "error",
     "traceback": [
      "\u001b[31m---------------------------------------------------------------------------\u001b[39m",
      "\u001b[31mTypeError\u001b[39m                                 Traceback (most recent call last)",
      "\u001b[36mCell\u001b[39m\u001b[36m \u001b[39m\u001b[32mIn[9]\u001b[39m\u001b[32m, line 45\u001b[39m\n\u001b[32m     37\u001b[39m report_stream: Iterator[RunResponse] = generate_research_report.run(\n\u001b[32m     38\u001b[39m     topic=topic,\n\u001b[32m     39\u001b[39m     use_search_cache=\u001b[38;5;28;01mTrue\u001b[39;00m,\n\u001b[32m     40\u001b[39m     use_scrape_cache=\u001b[38;5;28;01mTrue\u001b[39;00m,\n\u001b[32m     41\u001b[39m     use_cached_report=\u001b[38;5;28;01mTrue\u001b[39;00m,\n\u001b[32m     42\u001b[39m )\n\u001b[32m     44\u001b[39m \u001b[38;5;66;03m# Print the response\u001b[39;00m\n\u001b[32m---> \u001b[39m\u001b[32m45\u001b[39m \u001b[43mpprint_run_response\u001b[49m\u001b[43m(\u001b[49m\u001b[43mreport_stream\u001b[49m\u001b[43m,\u001b[49m\u001b[43m \u001b[49m\u001b[43mmarkdown\u001b[49m\u001b[43m=\u001b[49m\u001b[38;5;28;43;01mTrue\u001b[39;49;00m\u001b[43m)\u001b[49m\n",
      "\u001b[36mFile \u001b[39m\u001b[32m~/Developer/agno/venv/lib/python3.12/site-packages/agno/utils/pprint.py:66\u001b[39m, in \u001b[36mpprint_run_response\u001b[39m\u001b[34m(run_response, markdown, show_time)\u001b[39m\n\u001b[32m     64\u001b[39m response_timer = Timer()\n\u001b[32m     65\u001b[39m response_timer.start()\n\u001b[32m---> \u001b[39m\u001b[32m66\u001b[39m \u001b[43m\u001b[49m\u001b[38;5;28;43;01mfor\u001b[39;49;00m\u001b[43m \u001b[49m\u001b[43mresp\u001b[49m\u001b[43m \u001b[49m\u001b[38;5;129;43;01min\u001b[39;49;00m\u001b[43m \u001b[49m\u001b[43mrun_response\u001b[49m\u001b[43m:\u001b[49m\n\u001b[32m     67\u001b[39m \u001b[43m    \u001b[49m\u001b[38;5;28;43;01mif\u001b[39;49;00m\u001b[43m \u001b[49m\u001b[43m(\u001b[49m\n\u001b[32m     68\u001b[39m \u001b[43m        \u001b[49m\u001b[43m(\u001b[49m\n\u001b[32m     69\u001b[39m \u001b[43m            \u001b[49m\u001b[38;5;28;43misinstance\u001b[39;49m\u001b[43m(\u001b[49m\u001b[43mresp\u001b[49m\u001b[43m,\u001b[49m\u001b[43m \u001b[49m\u001b[38;5;28;43mtuple\u001b[39;49m\u001b[43m(\u001b[49m\u001b[43mget_args\u001b[49m\u001b[43m(\u001b[49m\u001b[43mRunResponseEvent\u001b[49m\u001b[43m)\u001b[49m\u001b[43m)\u001b[49m\u001b[43m)\u001b[49m\n\u001b[32m   (...)\u001b[39m\u001b[32m     74\u001b[39m \u001b[43m        \u001b[49m\u001b[38;5;129;43;01mand\u001b[39;49;00m\u001b[43m \u001b[49m\u001b[43mresp\u001b[49m\u001b[43m.\u001b[49m\u001b[43mcontent\u001b[49m\u001b[43m \u001b[49m\u001b[38;5;129;43;01mis\u001b[39;49;00m\u001b[43m \u001b[49m\u001b[38;5;129;43;01mnot\u001b[39;49;00m\u001b[43m \u001b[49m\u001b[38;5;28;43;01mNone\u001b[39;49;00m\n\u001b[32m     75\u001b[39m \u001b[43m    \u001b[49m\u001b[43m)\u001b[49m\u001b[43m:\u001b[49m\n\u001b[32m     76\u001b[39m \u001b[43m        \u001b[49m\u001b[38;5;28;43;01mif\u001b[39;49;00m\u001b[43m \u001b[49m\u001b[38;5;28;43misinstance\u001b[39;49m\u001b[43m(\u001b[49m\u001b[43mresp\u001b[49m\u001b[43m.\u001b[49m\u001b[43mcontent\u001b[49m\u001b[43m,\u001b[49m\u001b[43m \u001b[49m\u001b[43mBaseModel\u001b[49m\u001b[43m)\u001b[49m\u001b[43m:\u001b[49m\n",
      "\u001b[36mFile \u001b[39m\u001b[32m~/Developer/agno/venv/lib/python3.12/site-packages/agno/workflow/workflow.py:193\u001b[39m, in \u001b[36mWorkflow.run_workflow.<locals>.result_generator\u001b[39m\u001b[34m()\u001b[39m\n\u001b[32m    190\u001b[39m \u001b[38;5;28;01melif\u001b[39;00m \u001b[38;5;28misinstance\u001b[39m(\u001b[38;5;28mself\u001b[39m.memory, Memory):\n\u001b[32m    191\u001b[39m     \u001b[38;5;28mself\u001b[39m.memory = cast(Memory, \u001b[38;5;28mself\u001b[39m.memory)\n\u001b[32m--> \u001b[39m\u001b[32m193\u001b[39m \u001b[43m\u001b[49m\u001b[38;5;28;43;01mfor\u001b[39;49;00m\u001b[43m \u001b[49m\u001b[43mitem\u001b[49m\u001b[43m \u001b[49m\u001b[38;5;129;43;01min\u001b[39;49;00m\u001b[43m \u001b[49m\u001b[43mresult\u001b[49m\u001b[43m:\u001b[49m\n\u001b[32m    194\u001b[39m \u001b[43m    \u001b[49m\u001b[38;5;28;43;01mif\u001b[39;49;00m\u001b[43m \u001b[49m\u001b[43m(\u001b[49m\n\u001b[32m    195\u001b[39m \u001b[43m        \u001b[49m\u001b[38;5;28;43misinstance\u001b[39;49m\u001b[43m(\u001b[49m\u001b[43mitem\u001b[49m\u001b[43m,\u001b[49m\u001b[43m \u001b[49m\u001b[38;5;28;43mtuple\u001b[39;49m\u001b[43m(\u001b[49m\u001b[43mget_args\u001b[49m\u001b[43m(\u001b[49m\u001b[43mRunResponseEvent\u001b[49m\u001b[43m)\u001b[49m\u001b[43m)\u001b[49m\u001b[43m)\u001b[49m\n\u001b[32m    196\u001b[39m \u001b[43m        \u001b[49m\u001b[38;5;129;43;01mor\u001b[39;49;00m\u001b[43m \u001b[49m\u001b[38;5;28;43misinstance\u001b[39;49m\u001b[43m(\u001b[49m\u001b[43mitem\u001b[49m\u001b[43m,\u001b[49m\u001b[43m \u001b[49m\u001b[38;5;28;43mtuple\u001b[39;49m\u001b[43m(\u001b[49m\u001b[43mget_args\u001b[49m\u001b[43m(\u001b[49m\u001b[43mTeamRunResponseEvent\u001b[49m\u001b[43m)\u001b[49m\u001b[43m)\u001b[49m\u001b[43m)\u001b[49m\n\u001b[32m   (...)\u001b[39m\u001b[32m    199\u001b[39m \u001b[43m    \u001b[49m\u001b[43m)\u001b[49m\u001b[43m:\u001b[49m\n\u001b[32m    200\u001b[39m \u001b[43m        \u001b[49m\u001b[38;5;66;43;03m# Update the run_id, session_id and workflow_id of the RunResponseEvent\u001b[39;49;00m\n\u001b[32m    201\u001b[39m \u001b[43m        \u001b[49m\u001b[43mitem\u001b[49m\u001b[43m.\u001b[49m\u001b[43mrun_id\u001b[49m\u001b[43m \u001b[49m\u001b[43m=\u001b[49m\u001b[43m \u001b[49m\u001b[38;5;28;43mself\u001b[39;49m\u001b[43m.\u001b[49m\u001b[43mrun_id\u001b[49m\n",
      "\u001b[36mCell\u001b[39m\u001b[36m \u001b[39m\u001b[32mIn[8]\u001b[39m\u001b[32m, line 164\u001b[39m, in \u001b[36mResearchReportGenerator.run\u001b[39m\u001b[34m(self, topic, use_search_cache, use_scrape_cache, use_cached_report)\u001b[39m\n\u001b[32m    162\u001b[39m \u001b[38;5;66;03m# If no search_results are found for the topic, end the workflow\u001b[39;00m\n\u001b[32m    163\u001b[39m \u001b[38;5;28;01mif\u001b[39;00m search_results \u001b[38;5;129;01mis\u001b[39;00m \u001b[38;5;28;01mNone\u001b[39;00m \u001b[38;5;129;01mor\u001b[39;00m \u001b[38;5;28mlen\u001b[39m(search_results.articles) == \u001b[32m0\u001b[39m:\n\u001b[32m--> \u001b[39m\u001b[32m164\u001b[39m     \u001b[38;5;28;01myield\u001b[39;00m \u001b[43mWorkflowCompletedEvent\u001b[49m\u001b[43m(\u001b[49m\n\u001b[32m    165\u001b[39m \u001b[43m        \u001b[49m\u001b[43mcontent\u001b[49m\u001b[43m=\u001b[49m\u001b[33;43mf\u001b[39;49m\u001b[33;43m\"\u001b[39;49m\u001b[33;43mSorry, could not find any articles on the topic: \u001b[39;49m\u001b[38;5;132;43;01m{\u001b[39;49;00m\u001b[43mtopic\u001b[49m\u001b[38;5;132;43;01m}\u001b[39;49;00m\u001b[33;43m\"\u001b[39;49m\u001b[43m,\u001b[49m\n\u001b[32m    166\u001b[39m \u001b[43m    \u001b[49m\u001b[43m)\u001b[49m\n\u001b[32m    167\u001b[39m     \u001b[38;5;28;01mreturn\u001b[39;00m\n\u001b[32m    169\u001b[39m \u001b[38;5;66;03m# Scrape the search results\u001b[39;00m\n",
      "\u001b[31mTypeError\u001b[39m: WorkflowCompletedEvent.__init__() missing 1 required positional argument: 'run_id'"
     ]
    }
   ],
   "source": [
    "from rich.prompt import Prompt\n",
    "\n",
    "# Example research topics\n",
    "example_topics = [\n",
    "    \"quantum computing breakthroughs 2024\",\n",
    "    \"artificial consciousness research\",\n",
    "    \"fusion energy developments\",\n",
    "    \"space tourism environmental impact\",\n",
    "    \"longevity research advances\",\n",
    "]\n",
    "\n",
    "topics_str = \"\\n\".join(\n",
    "    f\"{i + 1}. {topic}\" for i, topic in enumerate(example_topics)\n",
    ")\n",
    "\n",
    "print(f\"\\n📚 Example Research Topics:\\n{topics_str}\\n\")\n",
    "\n",
    "# Get topic from user\n",
    "topic = Prompt.ask(\n",
    "    \"[bold]Enter a research topic[/bold]\\n✨\",\n",
    "    default=\"quantum computing breakthroughs 2024\",\n",
    ")\n",
    "\n",
    "# Convert the topic to a URL-safe string for use in session_id\n",
    "url_safe_topic = topic.lower().replace(\" \", \"-\")\n",
    "\n",
    "# Initialize the news report generator workflow\n",
    "generate_research_report = ResearchReportGenerator(\n",
    "    session_id=f\"generate-report-on-{url_safe_topic}\",\n",
    "    storage=SqliteStorage(\n",
    "        table_name=\"generate_research_report_workflow\",\n",
    "        db_file=\"tmp/workflows.db\",\n",
    "    ),\n",
    ")\n",
    "\n",
    "# Execute the workflow with caching enabled\n",
    "report_stream: Iterator[RunResponse] = generate_research_report.run(\n",
    "    topic=topic,\n",
    "    use_search_cache=True,\n",
    "    use_scrape_cache=True,\n",
    "    use_cached_report=True,\n",
    ")\n",
    "\n",
    "# Print the response\n",
    "pprint_run_response(report_stream, markdown=True)"
   ]
  },
  {
   "cell_type": "code",
   "execution_count": null,
   "id": "fbd1e850",
   "metadata": {},
   "outputs": [],
   "source": []
  }
 ],
 "metadata": {
  "kernelspec": {
   "display_name": "venv (3.12.10)",
   "language": "python",
   "name": "python3"
  },
  "language_info": {
   "codemirror_mode": {
    "name": "ipython",
    "version": 3
   },
   "file_extension": ".py",
   "mimetype": "text/x-python",
   "name": "python",
   "nbconvert_exporter": "python",
   "pygments_lexer": "ipython3",
   "version": "3.12.10"
  }
 },
 "nbformat": 4,
 "nbformat_minor": 5
}
